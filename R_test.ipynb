{
  "cells": [
    {
      "cell_type": "code",
      "execution_count": null,
      "metadata": {
        "colab": {
          "base_uri": "https://localhost:8080/"
        },
        "id": "7JUXzZeqtJ9c",
        "outputId": "2368e303-2029-4c45-ba69-39f1bbe18631"
      },
      "outputs": [
        {
          "name": "stderr",
          "output_type": "stream",
          "text": [
            "── \u001b[1mAttaching packages\u001b[22m ─────────────────────────────────────── tidyverse 1.3.1 ──\n",
            "\n",
            "\u001b[32m✔\u001b[39m \u001b[34mggplot2\u001b[39m 3.4.2     \u001b[32m✔\u001b[39m \u001b[34mpurrr  \u001b[39m 1.0.1\n",
            "\u001b[32m✔\u001b[39m \u001b[34mtibble \u001b[39m 3.2.1     \u001b[32m✔\u001b[39m \u001b[34mdplyr  \u001b[39m 1.1.2\n",
            "\u001b[32m✔\u001b[39m \u001b[34mtidyr  \u001b[39m 1.3.0     \u001b[32m✔\u001b[39m \u001b[34mstringr\u001b[39m 1.5.0\n",
            "\u001b[32m✔\u001b[39m \u001b[34mreadr  \u001b[39m 2.1.4     \u001b[32m✔\u001b[39m \u001b[34mforcats\u001b[39m 1.0.0\n",
            "\n",
            "── \u001b[1mConflicts\u001b[22m ────────────────────────────────────────── tidyverse_conflicts() ──\n",
            "\u001b[31m✖\u001b[39m \u001b[34mdplyr\u001b[39m::\u001b[32mfilter()\u001b[39m masks \u001b[34mstats\u001b[39m::filter()\n",
            "\u001b[31m✖\u001b[39m \u001b[34mdplyr\u001b[39m::\u001b[32mlag()\u001b[39m    masks \u001b[34mstats\u001b[39m::lag()\n",
            "\n"
          ]
        }
      ],
      "source": [
        "library(tidyverse)"
      ]
    },
    {
      "cell_type": "code",
      "execution_count": null,
      "metadata": {
        "colab": {
          "base_uri": "https://localhost:8080/",
          "height": 286
        },
        "id": "dHhPY_QXvJPK",
        "outputId": "1874ccd7-3ab5-464c-a0c0-76ab6279d5e4"
      },
      "outputs": [
        {
          "data": {
            "text/html": [
              "<table class=\"dataframe\">\n",
              "<caption>A data.frame: 6 × 5</caption>\n",
              "<thead>\n",
              "\t<tr><th></th><th scope=col>Sepal.Length</th><th scope=col>Sepal.Width</th><th scope=col>Petal.Length</th><th scope=col>Petal.Width</th><th scope=col>Species</th></tr>\n",
              "\t<tr><th></th><th scope=col>&lt;dbl&gt;</th><th scope=col>&lt;dbl&gt;</th><th scope=col>&lt;dbl&gt;</th><th scope=col>&lt;dbl&gt;</th><th scope=col>&lt;fct&gt;</th></tr>\n",
              "</thead>\n",
              "<tbody>\n",
              "\t<tr><th scope=row>1</th><td>5.1</td><td>3.5</td><td>1.4</td><td>0.2</td><td>setosa</td></tr>\n",
              "\t<tr><th scope=row>2</th><td>4.9</td><td>3.0</td><td>1.4</td><td>0.2</td><td>setosa</td></tr>\n",
              "\t<tr><th scope=row>3</th><td>4.7</td><td>3.2</td><td>1.3</td><td>0.2</td><td>setosa</td></tr>\n",
              "\t<tr><th scope=row>4</th><td>4.6</td><td>3.1</td><td>1.5</td><td>0.2</td><td>setosa</td></tr>\n",
              "\t<tr><th scope=row>5</th><td>5.0</td><td>3.6</td><td>1.4</td><td>0.2</td><td>setosa</td></tr>\n",
              "\t<tr><th scope=row>6</th><td>5.4</td><td>3.9</td><td>1.7</td><td>0.4</td><td>setosa</td></tr>\n",
              "</tbody>\n",
              "</table>\n"
            ],
            "text/latex": "A data.frame: 6 × 5\n\\begin{tabular}{r|lllll}\n  & Sepal.Length & Sepal.Width & Petal.Length & Petal.Width & Species\\\\\n  & <dbl> & <dbl> & <dbl> & <dbl> & <fct>\\\\\n\\hline\n\t1 & 5.1 & 3.5 & 1.4 & 0.2 & setosa\\\\\n\t2 & 4.9 & 3.0 & 1.4 & 0.2 & setosa\\\\\n\t3 & 4.7 & 3.2 & 1.3 & 0.2 & setosa\\\\\n\t4 & 4.6 & 3.1 & 1.5 & 0.2 & setosa\\\\\n\t5 & 5.0 & 3.6 & 1.4 & 0.2 & setosa\\\\\n\t6 & 5.4 & 3.9 & 1.7 & 0.4 & setosa\\\\\n\\end{tabular}\n",
            "text/markdown": "\nA data.frame: 6 × 5\n\n| <!--/--> | Sepal.Length &lt;dbl&gt; | Sepal.Width &lt;dbl&gt; | Petal.Length &lt;dbl&gt; | Petal.Width &lt;dbl&gt; | Species &lt;fct&gt; |\n|---|---|---|---|---|---|\n| 1 | 5.1 | 3.5 | 1.4 | 0.2 | setosa |\n| 2 | 4.9 | 3.0 | 1.4 | 0.2 | setosa |\n| 3 | 4.7 | 3.2 | 1.3 | 0.2 | setosa |\n| 4 | 4.6 | 3.1 | 1.5 | 0.2 | setosa |\n| 5 | 5.0 | 3.6 | 1.4 | 0.2 | setosa |\n| 6 | 5.4 | 3.9 | 1.7 | 0.4 | setosa |\n\n",
            "text/plain": [
              "  Sepal.Length Sepal.Width Petal.Length Petal.Width Species\n",
              "1 5.1          3.5         1.4          0.2         setosa \n",
              "2 4.9          3.0         1.4          0.2         setosa \n",
              "3 4.7          3.2         1.3          0.2         setosa \n",
              "4 4.6          3.1         1.5          0.2         setosa \n",
              "5 5.0          3.6         1.4          0.2         setosa \n",
              "6 5.4          3.9         1.7          0.4         setosa "
            ]
          },
          "metadata": {},
          "output_type": "display_data"
        }
      ],
      "source": [
        "iris %>% head"
      ]
    },
    {
      "cell_type": "code",
      "execution_count": null,
      "metadata": {
        "id": "FRp6BMoyvRbv"
      },
      "outputs": [],
      "source": [
        "m = lm(Sepal.Width~Petal.Length, data=iris)"
      ]
    },
    {
      "cell_type": "code",
      "execution_count": null,
      "metadata": {
        "colab": {
          "base_uri": "https://localhost:8080/",
          "height": 329
        },
        "id": "Um-8YSNyvXsB",
        "outputId": "cf952a48-041a-43a7-9998-e748cd75f60f"
      },
      "outputs": [
        {
          "data": {
            "text/plain": [
              "\n",
              "Call:\n",
              "lm(formula = Sepal.Width ~ Petal.Length, data = iris)\n",
              "\n",
              "Residuals:\n",
              "     Min       1Q   Median       3Q      Max \n",
              "-1.08463 -0.21537  0.02116  0.21587  1.10380 \n",
              "\n",
              "Coefficients:\n",
              "             Estimate Std. Error t value Pr(>|t|)    \n",
              "(Intercept)   3.45487    0.07610  45.402  < 2e-16 ***\n",
              "Petal.Length -0.10579    0.01834  -5.768 4.51e-08 ***\n",
              "---\n",
              "Signif. codes:  0 ‘***’ 0.001 ‘**’ 0.01 ‘*’ 0.05 ‘.’ 0.1 ‘ ’ 1\n",
              "\n",
              "Residual standard error: 0.3952 on 148 degrees of freedom\n",
              "Multiple R-squared:  0.1836,\tAdjusted R-squared:  0.178 \n",
              "F-statistic: 33.28 on 1 and 148 DF,  p-value: 4.513e-08\n"
            ]
          },
          "metadata": {},
          "output_type": "display_data"
        }
      ],
      "source": [
        "summary(m)"
      ]
    },
    {
      "cell_type": "code",
      "execution_count": null,
      "metadata": {
        "colab": {
          "base_uri": "https://localhost:8080/",
          "height": 260
        },
        "id": "edQXpwoDvZCS",
        "outputId": "d52eacb5-61da-4b1b-815d-8fa73b57d216"
      },
      "outputs": [
        {
          "data": {
            "text/plain": [
              "  Sepal.Length    Sepal.Width     Petal.Length    Petal.Width   \n",
              " Min.   :4.300   Min.   :2.000   Min.   :1.000   Min.   :0.100  \n",
              " 1st Qu.:5.100   1st Qu.:2.800   1st Qu.:1.600   1st Qu.:0.300  \n",
              " Median :5.800   Median :3.000   Median :4.350   Median :1.300  \n",
              " Mean   :5.843   Mean   :3.057   Mean   :3.758   Mean   :1.199  \n",
              " 3rd Qu.:6.400   3rd Qu.:3.300   3rd Qu.:5.100   3rd Qu.:1.800  \n",
              " Max.   :7.900   Max.   :4.400   Max.   :6.900   Max.   :2.500  \n",
              "       Species  \n",
              " setosa    :50  \n",
              " versicolor:50  \n",
              " virginica :50  \n",
              "                \n",
              "                \n",
              "                "
            ]
          },
          "metadata": {},
          "output_type": "display_data"
        }
      ],
      "source": [
        "summary(iris)"
      ]
    },
    {
      "cell_type": "code",
      "execution_count": null,
      "metadata": {
        "colab": {
          "base_uri": "https://localhost:8080/",
          "height": 391
        },
        "id": "avjgIe9lzFT_",
        "outputId": "c8dca2d5-f737-4782-bfc3-4e600d5dfd95"
      },
      "outputs": [
        {
          "name": "stderr",
          "output_type": "stream",
          "text": [
            "Installing package into ‘/usr/local/lib/R/site-library’\n",
            "(as ‘lib’ is unspecified)\n",
            "\n",
            "Installing package into ‘/usr/local/lib/R/site-library’\n",
            "(as ‘lib’ is unspecified)\n",
            "\n",
            "also installing the dependencies ‘Rcpp’, ‘SnowballC’, ‘janeaustenr’, ‘tokenizers’\n",
            "\n",
            "\n",
            "Warning message in eval(dots[[i]][[action]], env, env):\n",
            "“Request more than the actual total count, and use actual total count.”\n"
          ]
        },
        {
          "ename": "ERROR",
          "evalue": "ignored",
          "output_type": "error",
          "traceback": [
            "Error in res[[i]] <- transform_return(dat, \"df\"): attempt to select less than one element in integerOneIndex\nTraceback:\n",
            "1. getAllComment(tar) %>% unnest_tokens(ws, contents, \"words\")",
            "2. unnest_tokens(., ws, contents, \"words\")",
            "3. is_grouped_df(tbl)",
            "4. getAllComment(tar)",
            "5. get_comment(turl, \"all\", \"df\")"
          ]
        }
      ],
      "source": [
        "install.packages(\"N2H4\")\n",
        "install.packages(\"tidytext\")\n",
        "library(tidytext)\n",
        "library(N2H4)\n",
        "library(dplyr)\n",
        "tar <- \"https://news.naver.com/main/ranking/read.nhn?mode=LSD&mid=shm&sid1=001&oid=437&aid=0000261701&rankingType=RANKING\"\n",
        "  getAllComment(tar) %>%\n",
        "# select(userName, contents) %>%\n",
        "  unnest_tokens(ws, contents, \"words\") #output=ws, input=contents, token=\"words\""
      ]
    },
    {
      "cell_type": "code",
      "execution_count": null,
      "metadata": {
        "colab": {
          "base_uri": "https://localhost:8080/",
          "height": 1000
        },
        "id": "MG0imRyG79pC",
        "outputId": "895213ac-e750-401f-ac0a-2f5202a104c7"
      },
      "outputs": [
        {
          "name": "stderr",
          "output_type": "stream",
          "text": [
            "Warning message in eval(dots[[i]][[action]], env, env):\n",
            "“Request more than the actual total count, and use actual total count.”\n"
          ]
        },
        {
          "data": {
            "text/html": [
              "<table class=\"dataframe\">\n",
              "<caption>A tibble: 181 × 85</caption>\n",
              "<thead>\n",
              "\t<tr><th scope=col>ticket</th><th scope=col>objectId</th><th scope=col>categoryId</th><th scope=col>templateId</th><th scope=col>commentNo</th><th scope=col>parentCommentNo</th><th scope=col>replyLevel</th><th scope=col>replyCount</th><th scope=col>replyAllCount</th><th scope=col>replyPreviewNo</th><th scope=col>⋯</th><th scope=col>blind</th><th scope=col>secret</th><th scope=col>profileUserId</th><th scope=col>exposeByCountry</th><th scope=col>validateBanWords</th><th scope=col>containText</th><th scope=col>virtual</th><th scope=col>originalStatus</th><th scope=col>anonymous</th><th scope=col>ws</th></tr>\n",
              "\t<tr><th scope=col>&lt;chr&gt;</th><th scope=col>&lt;chr&gt;</th><th scope=col>&lt;chr&gt;</th><th scope=col>&lt;chr&gt;</th><th scope=col>&lt;chr&gt;</th><th scope=col>&lt;chr&gt;</th><th scope=col>&lt;int&gt;</th><th scope=col>&lt;int&gt;</th><th scope=col>&lt;int&gt;</th><th scope=col>&lt;lgl&gt;</th><th scope=col>⋯</th><th scope=col>&lt;lgl&gt;</th><th scope=col>&lt;lgl&gt;</th><th scope=col>&lt;lgl&gt;</th><th scope=col>&lt;lgl&gt;</th><th scope=col>&lt;lgl&gt;</th><th scope=col>&lt;lgl&gt;</th><th scope=col>&lt;lgl&gt;</th><th scope=col>&lt;int&gt;</th><th scope=col>&lt;lgl&gt;</th><th scope=col>&lt;chr&gt;</th></tr>\n",
              "</thead>\n",
              "<tbody>\n",
              "\t<tr><td>news</td><td>news422,0000600299</td><td>*</td><td>default_politics</td><td>792690251121295417</td><td>792690251121295417</td><td>1</td><td>0</td><td>0</td><td>NA</td><td>⋯</td><td>FALSE</td><td>FALSE</td><td>NA</td><td>TRUE</td><td>FALSE</td><td>TRUE</td><td>FALSE</td><td>0</td><td>FALSE</td><td>뭐          </td></tr>\n",
              "\t<tr><td>news</td><td>news422,0000600299</td><td>*</td><td>default_politics</td><td>792690251121295417</td><td>792690251121295417</td><td>1</td><td>0</td><td>0</td><td>NA</td><td>⋯</td><td>FALSE</td><td>FALSE</td><td>NA</td><td>TRUE</td><td>FALSE</td><td>TRUE</td><td>FALSE</td><td>0</td><td>FALSE</td><td>얼마나      </td></tr>\n",
              "\t<tr><td>news</td><td>news422,0000600299</td><td>*</td><td>default_politics</td><td>792690251121295417</td><td>792690251121295417</td><td>1</td><td>0</td><td>0</td><td>NA</td><td>⋯</td><td>FALSE</td><td>FALSE</td><td>NA</td><td>TRUE</td><td>FALSE</td><td>TRUE</td><td>FALSE</td><td>0</td><td>FALSE</td><td>받아묵엇을꼬</td></tr>\n",
              "\t<tr><td>news</td><td>news422,0000600299</td><td>*</td><td>default_politics</td><td>792690163879772509</td><td>792690163879772509</td><td>1</td><td>0</td><td>0</td><td>NA</td><td>⋯</td><td>FALSE</td><td>FALSE</td><td>NA</td><td>TRUE</td><td>FALSE</td><td>TRUE</td><td>FALSE</td><td>0</td><td>FALSE</td><td>일본에      </td></tr>\n",
              "\t<tr><td>news</td><td>news422,0000600299</td><td>*</td><td>default_politics</td><td>792690163879772509</td><td>792690163879772509</td><td>1</td><td>0</td><td>0</td><td>NA</td><td>⋯</td><td>FALSE</td><td>FALSE</td><td>NA</td><td>TRUE</td><td>FALSE</td><td>TRUE</td><td>FALSE</td><td>0</td><td>FALSE</td><td>충신        </td></tr>\n",
              "\t<tr><td>news</td><td>news422,0000600299</td><td>*</td><td>default_politics</td><td>792690163879772509</td><td>792690163879772509</td><td>1</td><td>0</td><td>0</td><td>NA</td><td>⋯</td><td>FALSE</td><td>FALSE</td><td>NA</td><td>TRUE</td><td>FALSE</td><td>TRUE</td><td>FALSE</td><td>0</td><td>FALSE</td><td>들러리      </td></tr>\n",
              "\t<tr><td>news</td><td>news422,0000600299</td><td>*</td><td>default_politics</td><td>792690163879772509</td><td>792690163879772509</td><td>1</td><td>0</td><td>0</td><td>NA</td><td>⋯</td><td>FALSE</td><td>FALSE</td><td>NA</td><td>TRUE</td><td>FALSE</td><td>TRUE</td><td>FALSE</td><td>0</td><td>FALSE</td><td>맞아        </td></tr>\n",
              "\t<tr><td>news</td><td>news422,0000600299</td><td>*</td><td>default_politics</td><td>792690163879772509</td><td>792690163879772509</td><td>1</td><td>0</td><td>0</td><td>NA</td><td>⋯</td><td>FALSE</td><td>FALSE</td><td>NA</td><td>TRUE</td><td>FALSE</td><td>TRUE</td><td>FALSE</td><td>0</td><td>FALSE</td><td>이          </td></tr>\n",
              "\t<tr><td>news</td><td>news422,0000600299</td><td>*</td><td>default_politics</td><td>792690163879772509</td><td>792690163879772509</td><td>1</td><td>0</td><td>0</td><td>NA</td><td>⋯</td><td>FALSE</td><td>FALSE</td><td>NA</td><td>TRUE</td><td>FALSE</td><td>TRUE</td><td>FALSE</td><td>0</td><td>FALSE</td><td>거짓말쟁이야</td></tr>\n",
              "\t<tr><td>news</td><td>news422,0000600299</td><td>*</td><td>default_politics</td><td>792690163879772509</td><td>792690163879772509</td><td>1</td><td>0</td><td>0</td><td>NA</td><td>⋯</td><td>FALSE</td><td>FALSE</td><td>NA</td><td>TRUE</td><td>FALSE</td><td>TRUE</td><td>FALSE</td><td>0</td><td>FALSE</td><td>일본에      </td></tr>\n",
              "\t<tr><td>news</td><td>news422,0000600299</td><td>*</td><td>default_politics</td><td>792690163879772509</td><td>792690163879772509</td><td>1</td><td>0</td><td>0</td><td>NA</td><td>⋯</td><td>FALSE</td><td>FALSE</td><td>NA</td><td>TRUE</td><td>FALSE</td><td>TRUE</td><td>FALSE</td><td>0</td><td>FALSE</td><td>최고        </td></tr>\n",
              "\t<tr><td>news</td><td>news422,0000600299</td><td>*</td><td>default_politics</td><td>792690163879772509</td><td>792690163879772509</td><td>1</td><td>0</td><td>0</td><td>NA</td><td>⋯</td><td>FALSE</td><td>FALSE</td><td>NA</td><td>TRUE</td><td>FALSE</td><td>TRUE</td><td>FALSE</td><td>0</td><td>FALSE</td><td>공신은      </td></tr>\n",
              "\t<tr><td>news</td><td>news422,0000600299</td><td>*</td><td>default_politics</td><td>792690163879772509</td><td>792690163879772509</td><td>1</td><td>0</td><td>0</td><td>NA</td><td>⋯</td><td>FALSE</td><td>FALSE</td><td>NA</td><td>TRUE</td><td>FALSE</td><td>TRUE</td><td>FALSE</td><td>0</td><td>FALSE</td><td>니          </td></tr>\n",
              "\t<tr><td>news</td><td>news422,0000600299</td><td>*</td><td>default_politics</td><td>792690163879772509</td><td>792690163879772509</td><td>1</td><td>0</td><td>0</td><td>NA</td><td>⋯</td><td>FALSE</td><td>FALSE</td><td>NA</td><td>TRUE</td><td>FALSE</td><td>TRUE</td><td>FALSE</td><td>0</td><td>FALSE</td><td>우두머리    </td></tr>\n",
              "\t<tr><td>news</td><td>news422,0000600299</td><td>*</td><td>default_politics</td><td>792690143042470087</td><td>792690143042470087</td><td>1</td><td>0</td><td>0</td><td>NA</td><td>⋯</td><td>FALSE</td><td>FALSE</td><td>NA</td><td>TRUE</td><td>FALSE</td><td>TRUE</td><td>FALSE</td><td>0</td><td>FALSE</td><td>이걸        </td></tr>\n",
              "\t<tr><td>news</td><td>news422,0000600299</td><td>*</td><td>default_politics</td><td>792690143042470087</td><td>792690143042470087</td><td>1</td><td>0</td><td>0</td><td>NA</td><td>⋯</td><td>FALSE</td><td>FALSE</td><td>NA</td><td>TRUE</td><td>FALSE</td><td>TRUE</td><td>FALSE</td><td>0</td><td>FALSE</td><td>쉴드치려는  </td></tr>\n",
              "\t<tr><td>news</td><td>news422,0000600299</td><td>*</td><td>default_politics</td><td>792690143042470087</td><td>792690143042470087</td><td>1</td><td>0</td><td>0</td><td>NA</td><td>⋯</td><td>FALSE</td><td>FALSE</td><td>NA</td><td>TRUE</td><td>FALSE</td><td>TRUE</td><td>FALSE</td><td>0</td><td>FALSE</td><td>사람들이    </td></tr>\n",
              "\t<tr><td>news</td><td>news422,0000600299</td><td>*</td><td>default_politics</td><td>792690143042470087</td><td>792690143042470087</td><td>1</td><td>0</td><td>0</td><td>NA</td><td>⋯</td><td>FALSE</td><td>FALSE</td><td>NA</td><td>TRUE</td><td>FALSE</td><td>TRUE</td><td>FALSE</td><td>0</td><td>FALSE</td><td>있네        </td></tr>\n",
              "\t<tr><td>news</td><td>news422,0000600299</td><td>*</td><td>default_politics</td><td>792690143042470087</td><td>792690143042470087</td><td>1</td><td>0</td><td>0</td><td>NA</td><td>⋯</td><td>FALSE</td><td>FALSE</td><td>NA</td><td>TRUE</td><td>FALSE</td><td>TRUE</td><td>FALSE</td><td>0</td><td>FALSE</td><td>오염수      </td></tr>\n",
              "\t<tr><td>news</td><td>news422,0000600299</td><td>*</td><td>default_politics</td><td>792690143042470087</td><td>792690143042470087</td><td>1</td><td>0</td><td>0</td><td>NA</td><td>⋯</td><td>FALSE</td><td>FALSE</td><td>NA</td><td>TRUE</td><td>FALSE</td><td>TRUE</td><td>FALSE</td><td>0</td><td>FALSE</td><td>핵          </td></tr>\n",
              "\t<tr><td>news</td><td>news422,0000600299</td><td>*</td><td>default_politics</td><td>792690143042470087</td><td>792690143042470087</td><td>1</td><td>0</td><td>0</td><td>NA</td><td>⋯</td><td>FALSE</td><td>FALSE</td><td>NA</td><td>TRUE</td><td>FALSE</td><td>TRUE</td><td>FALSE</td><td>0</td><td>FALSE</td><td>폐기물      </td></tr>\n",
              "\t<tr><td>news</td><td>news422,0000600299</td><td>*</td><td>default_politics</td><td>792690143042470087</td><td>792690143042470087</td><td>1</td><td>0</td><td>0</td><td>NA</td><td>⋯</td><td>FALSE</td><td>FALSE</td><td>NA</td><td>TRUE</td><td>FALSE</td><td>TRUE</td><td>FALSE</td><td>0</td><td>FALSE</td><td>방수        </td></tr>\n",
              "\t<tr><td>news</td><td>news422,0000600299</td><td>*</td><td>default_politics</td><td>792690143042470087</td><td>792690143042470087</td><td>1</td><td>0</td><td>0</td><td>NA</td><td>⋯</td><td>FALSE</td><td>FALSE</td><td>NA</td><td>TRUE</td><td>FALSE</td><td>TRUE</td><td>FALSE</td><td>0</td><td>FALSE</td><td>찬성하는    </td></tr>\n",
              "\t<tr><td>news</td><td>news422,0000600299</td><td>*</td><td>default_politics</td><td>792690143042470087</td><td>792690143042470087</td><td>1</td><td>0</td><td>0</td><td>NA</td><td>⋯</td><td>FALSE</td><td>FALSE</td><td>NA</td><td>TRUE</td><td>FALSE</td><td>TRUE</td><td>FALSE</td><td>0</td><td>FALSE</td><td>지지자들    </td></tr>\n",
              "\t<tr><td>news</td><td>news422,0000600299</td><td>*</td><td>default_politics</td><td>792690143042470087</td><td>792690143042470087</td><td>1</td><td>0</td><td>0</td><td>NA</td><td>⋯</td><td>FALSE</td><td>FALSE</td><td>NA</td><td>TRUE</td><td>FALSE</td><td>TRUE</td><td>FALSE</td><td>0</td><td>FALSE</td><td>모아서      </td></tr>\n",
              "\t<tr><td>news</td><td>news422,0000600299</td><td>*</td><td>default_politics</td><td>792690143042470087</td><td>792690143042470087</td><td>1</td><td>0</td><td>0</td><td>NA</td><td>⋯</td><td>FALSE</td><td>FALSE</td><td>NA</td><td>TRUE</td><td>FALSE</td><td>TRUE</td><td>FALSE</td><td>0</td><td>FALSE</td><td>1           </td></tr>\n",
              "\t<tr><td>news</td><td>news422,0000600299</td><td>*</td><td>default_politics</td><td>792690143042470087</td><td>792690143042470087</td><td>1</td><td>0</td><td>0</td><td>NA</td><td>⋯</td><td>FALSE</td><td>FALSE</td><td>NA</td><td>TRUE</td><td>FALSE</td><td>TRUE</td><td>FALSE</td><td>0</td><td>FALSE</td><td>리터씩만    </td></tr>\n",
              "\t<tr><td>news</td><td>news422,0000600299</td><td>*</td><td>default_politics</td><td>792690143042470087</td><td>792690143042470087</td><td>1</td><td>0</td><td>0</td><td>NA</td><td>⋯</td><td>FALSE</td><td>FALSE</td><td>NA</td><td>TRUE</td><td>FALSE</td><td>TRUE</td><td>FALSE</td><td>0</td><td>FALSE</td><td>시음합시다  </td></tr>\n",
              "\t<tr><td>news</td><td>news422,0000600299</td><td>*</td><td>default_politics</td><td>792690143042470087</td><td>792690143042470087</td><td>1</td><td>0</td><td>0</td><td>NA</td><td>⋯</td><td>FALSE</td><td>FALSE</td><td>NA</td><td>TRUE</td><td>FALSE</td><td>TRUE</td><td>FALSE</td><td>0</td><td>FALSE</td><td>그          </td></tr>\n",
              "\t<tr><td>news</td><td>news422,0000600299</td><td>*</td><td>default_politics</td><td>792690143042470087</td><td>792690143042470087</td><td>1</td><td>0</td><td>0</td><td>NA</td><td>⋯</td><td>FALSE</td><td>FALSE</td><td>NA</td><td>TRUE</td><td>FALSE</td><td>TRUE</td><td>FALSE</td><td>0</td><td>FALSE</td><td>뒤에        </td></tr>\n",
              "\t<tr><td>⋮</td><td>⋮</td><td>⋮</td><td>⋮</td><td>⋮</td><td>⋮</td><td>⋮</td><td>⋮</td><td>⋮</td><td>⋮</td><td>⋱</td><td>⋮</td><td>⋮</td><td>⋮</td><td>⋮</td><td>⋮</td><td>⋮</td><td>⋮</td><td>⋮</td><td>⋮</td><td>⋮</td></tr>\n",
              "\t<tr><td>news</td><td>news422,0000600299</td><td>*</td><td>default_politics</td><td>792689253430591772</td><td>792689253430591772</td><td>1</td><td>0</td><td>0</td><td>NA</td><td>⋯</td><td>FALSE</td><td>FALSE</td><td>NA</td><td>TRUE</td><td>FALSE</td><td>TRUE</td><td>FALSE</td><td>0</td><td>FALSE</td><td>처음부터  </td></tr>\n",
              "\t<tr><td>news</td><td>news422,0000600299</td><td>*</td><td>default_politics</td><td>792689253430591772</td><td>792689253430591772</td><td>1</td><td>0</td><td>0</td><td>NA</td><td>⋯</td><td>FALSE</td><td>FALSE</td><td>NA</td><td>TRUE</td><td>FALSE</td><td>TRUE</td><td>FALSE</td><td>0</td><td>FALSE</td><td>거절이    </td></tr>\n",
              "\t<tr><td>news</td><td>news422,0000600299</td><td>*</td><td>default_politics</td><td>792689253430591772</td><td>792689253430591772</td><td>1</td><td>0</td><td>0</td><td>NA</td><td>⋯</td><td>FALSE</td><td>FALSE</td><td>NA</td><td>TRUE</td><td>FALSE</td><td>TRUE</td><td>FALSE</td><td>0</td><td>FALSE</td><td>맞는거다  </td></tr>\n",
              "\t<tr><td>news</td><td>news422,0000600299</td><td>*</td><td>default_politics</td><td>792689253430591772</td><td>792689253430591772</td><td>1</td><td>0</td><td>0</td><td>NA</td><td>⋯</td><td>FALSE</td><td>FALSE</td><td>NA</td><td>TRUE</td><td>FALSE</td><td>TRUE</td><td>FALSE</td><td>0</td><td>FALSE</td><td>확인하고  </td></tr>\n",
              "\t<tr><td>news</td><td>news422,0000600299</td><td>*</td><td>default_politics</td><td>792689253430591772</td><td>792689253430591772</td><td>1</td><td>0</td><td>0</td><td>NA</td><td>⋯</td><td>FALSE</td><td>FALSE</td><td>NA</td><td>TRUE</td><td>FALSE</td><td>TRUE</td><td>FALSE</td><td>0</td><td>FALSE</td><td>괜찮다    </td></tr>\n",
              "\t<tr><td>news</td><td>news422,0000600299</td><td>*</td><td>default_politics</td><td>792689253430591772</td><td>792689253430591772</td><td>1</td><td>0</td><td>0</td><td>NA</td><td>⋯</td><td>FALSE</td><td>FALSE</td><td>NA</td><td>TRUE</td><td>FALSE</td><td>TRUE</td><td>FALSE</td><td>0</td><td>FALSE</td><td>안괜찮다  </td></tr>\n",
              "\t<tr><td>news</td><td>news422,0000600299</td><td>*</td><td>default_politics</td><td>792689253430591772</td><td>792689253430591772</td><td>1</td><td>0</td><td>0</td><td>NA</td><td>⋯</td><td>FALSE</td><td>FALSE</td><td>NA</td><td>TRUE</td><td>FALSE</td><td>TRUE</td><td>FALSE</td><td>0</td><td>FALSE</td><td>하는게    </td></tr>\n",
              "\t<tr><td>news</td><td>news422,0000600299</td><td>*</td><td>default_politics</td><td>792689253430591772</td><td>792689253430591772</td><td>1</td><td>0</td><td>0</td><td>NA</td><td>⋯</td><td>FALSE</td><td>FALSE</td><td>NA</td><td>TRUE</td><td>FALSE</td><td>TRUE</td><td>FALSE</td><td>0</td><td>FALSE</td><td>아니라    </td></tr>\n",
              "\t<tr><td>news</td><td>news422,0000600299</td><td>*</td><td>default_politics</td><td>792689253430591772</td><td>792689253430591772</td><td>1</td><td>0</td><td>0</td><td>NA</td><td>⋯</td><td>FALSE</td><td>FALSE</td><td>NA</td><td>TRUE</td><td>FALSE</td><td>TRUE</td><td>FALSE</td><td>0</td><td>FALSE</td><td>ㅋㅋ      </td></tr>\n",
              "\t<tr><td>news</td><td>news422,0000600299</td><td>*</td><td>default_politics</td><td>792688869551112521</td><td>792688869551112521</td><td>1</td><td>0</td><td>0</td><td>NA</td><td>⋯</td><td>FALSE</td><td>FALSE</td><td>NA</td><td>TRUE</td><td>FALSE</td><td>TRUE</td><td>FALSE</td><td>0</td><td>FALSE</td><td>일본편    </td></tr>\n",
              "\t<tr><td>news</td><td>news422,0000600299</td><td>*</td><td>default_politics</td><td>792688869551112521</td><td>792688869551112521</td><td>1</td><td>0</td><td>0</td><td>NA</td><td>⋯</td><td>FALSE</td><td>FALSE</td><td>NA</td><td>TRUE</td><td>FALSE</td><td>TRUE</td><td>FALSE</td><td>0</td><td>FALSE</td><td>아니고    </td></tr>\n",
              "\t<tr><td>news</td><td>news422,0000600299</td><td>*</td><td>default_politics</td><td>792688869551112521</td><td>792688869551112521</td><td>1</td><td>0</td><td>0</td><td>NA</td><td>⋯</td><td>FALSE</td><td>FALSE</td><td>NA</td><td>TRUE</td><td>FALSE</td><td>TRUE</td><td>FALSE</td><td>0</td><td>FALSE</td><td>일본      </td></tr>\n",
              "\t<tr><td>news</td><td>news422,0000600299</td><td>*</td><td>default_politics</td><td>792688869551112521</td><td>792688869551112521</td><td>1</td><td>0</td><td>0</td><td>NA</td><td>⋯</td><td>FALSE</td><td>FALSE</td><td>NA</td><td>TRUE</td><td>FALSE</td><td>TRUE</td><td>FALSE</td><td>0</td><td>FALSE</td><td>앞잡이    </td></tr>\n",
              "\t<tr><td>news</td><td>news422,0000600299</td><td>*</td><td>default_politics</td><td>792688869551112521</td><td>792688869551112521</td><td>1</td><td>0</td><td>0</td><td>NA</td><td>⋯</td><td>FALSE</td><td>FALSE</td><td>NA</td><td>TRUE</td><td>FALSE</td><td>TRUE</td><td>FALSE</td><td>0</td><td>FALSE</td><td>아닌가요  </td></tr>\n",
              "\t<tr><td>news</td><td>news422,0000600299</td><td>*</td><td>default_politics</td><td>792688869551112521</td><td>792688869551112521</td><td>1</td><td>0</td><td>0</td><td>NA</td><td>⋯</td><td>FALSE</td><td>FALSE</td><td>NA</td><td>TRUE</td><td>FALSE</td><td>TRUE</td><td>FALSE</td><td>0</td><td>FALSE</td><td>오염수    </td></tr>\n",
              "\t<tr><td>news</td><td>news422,0000600299</td><td>*</td><td>default_politics</td><td>792688869551112521</td><td>792688869551112521</td><td>1</td><td>0</td><td>0</td><td>NA</td><td>⋯</td><td>FALSE</td><td>FALSE</td><td>NA</td><td>TRUE</td><td>FALSE</td><td>TRUE</td><td>FALSE</td><td>0</td><td>FALSE</td><td>먹일      </td></tr>\n",
              "\t<tr><td>news</td><td>news422,0000600299</td><td>*</td><td>default_politics</td><td>792688869551112521</td><td>792688869551112521</td><td>1</td><td>0</td><td>0</td><td>NA</td><td>⋯</td><td>FALSE</td><td>FALSE</td><td>NA</td><td>TRUE</td><td>FALSE</td><td>TRUE</td><td>FALSE</td><td>0</td><td>FALSE</td><td>분들이지요</td></tr>\n",
              "\t<tr><td>news</td><td>news422,0000600299</td><td>*</td><td>default_politics</td><td>792688712432484450</td><td>792688712432484450</td><td>1</td><td>0</td><td>0</td><td>NA</td><td>⋯</td><td>FALSE</td><td>FALSE</td><td>NA</td><td>TRUE</td><td>FALSE</td><td>TRUE</td><td>FALSE</td><td>0</td><td>FALSE</td><td>우상호    </td></tr>\n",
              "\t<tr><td>news</td><td>news422,0000600299</td><td>*</td><td>default_politics</td><td>792688712432484450</td><td>792688712432484450</td><td>1</td><td>0</td><td>0</td><td>NA</td><td>⋯</td><td>FALSE</td><td>FALSE</td><td>NA</td><td>TRUE</td><td>FALSE</td><td>TRUE</td><td>FALSE</td><td>0</td><td>FALSE</td><td>이인간    </td></tr>\n",
              "\t<tr><td>news</td><td>news422,0000600299</td><td>*</td><td>default_politics</td><td>792688712432484450</td><td>792688712432484450</td><td>1</td><td>0</td><td>0</td><td>NA</td><td>⋯</td><td>FALSE</td><td>FALSE</td><td>NA</td><td>TRUE</td><td>FALSE</td><td>TRUE</td><td>FALSE</td><td>0</td><td>FALSE</td><td>주사파해서</td></tr>\n",
              "\t<tr><td>news</td><td>news422,0000600299</td><td>*</td><td>default_politics</td><td>792688712432484450</td><td>792688712432484450</td><td>1</td><td>0</td><td>0</td><td>NA</td><td>⋯</td><td>FALSE</td><td>FALSE</td><td>NA</td><td>TRUE</td><td>FALSE</td><td>TRUE</td><td>FALSE</td><td>0</td><td>FALSE</td><td>뷰귀영화를</td></tr>\n",
              "\t<tr><td>news</td><td>news422,0000600299</td><td>*</td><td>default_politics</td><td>792688712432484450</td><td>792688712432484450</td><td>1</td><td>0</td><td>0</td><td>NA</td><td>⋯</td><td>FALSE</td><td>FALSE</td><td>NA</td><td>TRUE</td><td>FALSE</td><td>TRUE</td><td>FALSE</td><td>0</td><td>FALSE</td><td>누리고    </td></tr>\n",
              "\t<tr><td>news</td><td>news422,0000600299</td><td>*</td><td>default_politics</td><td>792688712432484450</td><td>792688712432484450</td><td>1</td><td>0</td><td>0</td><td>NA</td><td>⋯</td><td>FALSE</td><td>FALSE</td><td>NA</td><td>TRUE</td><td>FALSE</td><td>TRUE</td><td>FALSE</td><td>0</td><td>FALSE</td><td>있는      </td></tr>\n",
              "\t<tr><td>news</td><td>news422,0000600299</td><td>*</td><td>default_politics</td><td>792688712432484450</td><td>792688712432484450</td><td>1</td><td>0</td><td>0</td><td>NA</td><td>⋯</td><td>FALSE</td><td>FALSE</td><td>NA</td><td>TRUE</td><td>FALSE</td><td>TRUE</td><td>FALSE</td><td>0</td><td>FALSE</td><td>말쫑이다  </td></tr>\n",
              "\t<tr><td>news</td><td>news422,0000600299</td><td>*</td><td>default_politics</td><td>792688712432484450</td><td>792688712432484450</td><td>1</td><td>0</td><td>0</td><td>NA</td><td>⋯</td><td>FALSE</td><td>FALSE</td><td>NA</td><td>TRUE</td><td>FALSE</td><td>TRUE</td><td>FALSE</td><td>0</td><td>FALSE</td><td>리인영    </td></tr>\n",
              "\t<tr><td>news</td><td>news422,0000600299</td><td>*</td><td>default_politics</td><td>792688712432484450</td><td>792688712432484450</td><td>1</td><td>0</td><td>0</td><td>NA</td><td>⋯</td><td>FALSE</td><td>FALSE</td><td>NA</td><td>TRUE</td><td>FALSE</td><td>TRUE</td><td>FALSE</td><td>0</td><td>FALSE</td><td>림종석    </td></tr>\n",
              "\t<tr><td>news</td><td>news422,0000600299</td><td>*</td><td>default_politics</td><td>792688712432484450</td><td>792688712432484450</td><td>1</td><td>0</td><td>0</td><td>NA</td><td>⋯</td><td>FALSE</td><td>FALSE</td><td>NA</td><td>TRUE</td><td>FALSE</td><td>TRUE</td><td>FALSE</td><td>0</td><td>FALSE</td><td>송영길    </td></tr>\n",
              "\t<tr><td>news</td><td>news422,0000600299</td><td>*</td><td>default_politics</td><td>792688712432484450</td><td>792688712432484450</td><td>1</td><td>0</td><td>0</td><td>NA</td><td>⋯</td><td>FALSE</td><td>FALSE</td><td>NA</td><td>TRUE</td><td>FALSE</td><td>TRUE</td><td>FALSE</td><td>0</td><td>FALSE</td><td>과        </td></tr>\n",
              "\t<tr><td>news</td><td>news422,0000600299</td><td>*</td><td>default_politics</td><td>792688712432484450</td><td>792688712432484450</td><td>1</td><td>0</td><td>0</td><td>NA</td><td>⋯</td><td>FALSE</td><td>FALSE</td><td>NA</td><td>TRUE</td><td>FALSE</td><td>TRUE</td><td>FALSE</td><td>0</td><td>FALSE</td><td>함께      </td></tr>\n",
              "\t<tr><td>news</td><td>news422,0000600299</td><td>*</td><td>default_politics</td><td>792688712432484450</td><td>792688712432484450</td><td>1</td><td>0</td><td>0</td><td>NA</td><td>⋯</td><td>FALSE</td><td>FALSE</td><td>NA</td><td>TRUE</td><td>FALSE</td><td>TRUE</td><td>FALSE</td><td>0</td><td>FALSE</td><td>월북하라  </td></tr>\n",
              "</tbody>\n",
              "</table>\n"
            ],
            "text/latex": "A tibble: 181 × 85\n\\begin{tabular}{lllllllllllllllllllll}\n ticket & objectId & categoryId & templateId & commentNo & parentCommentNo & replyLevel & replyCount & replyAllCount & replyPreviewNo & ⋯ & blind & secret & profileUserId & exposeByCountry & validateBanWords & containText & virtual & originalStatus & anonymous & ws\\\\\n <chr> & <chr> & <chr> & <chr> & <chr> & <chr> & <int> & <int> & <int> & <lgl> & ⋯ & <lgl> & <lgl> & <lgl> & <lgl> & <lgl> & <lgl> & <lgl> & <int> & <lgl> & <chr>\\\\\n\\hline\n\t news & news422,0000600299 & * & default\\_politics & 792690251121295417 & 792690251121295417 & 1 & 0 & 0 & NA & ⋯ & FALSE & FALSE & NA & TRUE & FALSE & TRUE & FALSE & 0 & FALSE & 뭐          \\\\\n\t news & news422,0000600299 & * & default\\_politics & 792690251121295417 & 792690251121295417 & 1 & 0 & 0 & NA & ⋯ & FALSE & FALSE & NA & TRUE & FALSE & TRUE & FALSE & 0 & FALSE & 얼마나      \\\\\n\t news & news422,0000600299 & * & default\\_politics & 792690251121295417 & 792690251121295417 & 1 & 0 & 0 & NA & ⋯ & FALSE & FALSE & NA & TRUE & FALSE & TRUE & FALSE & 0 & FALSE & 받아묵엇을꼬\\\\\n\t news & news422,0000600299 & * & default\\_politics & 792690163879772509 & 792690163879772509 & 1 & 0 & 0 & NA & ⋯ & FALSE & FALSE & NA & TRUE & FALSE & TRUE & FALSE & 0 & FALSE & 일본에      \\\\\n\t news & news422,0000600299 & * & default\\_politics & 792690163879772509 & 792690163879772509 & 1 & 0 & 0 & NA & ⋯ & FALSE & FALSE & NA & TRUE & FALSE & TRUE & FALSE & 0 & FALSE & 충신        \\\\\n\t news & news422,0000600299 & * & default\\_politics & 792690163879772509 & 792690163879772509 & 1 & 0 & 0 & NA & ⋯ & FALSE & FALSE & NA & TRUE & FALSE & TRUE & FALSE & 0 & FALSE & 들러리      \\\\\n\t news & news422,0000600299 & * & default\\_politics & 792690163879772509 & 792690163879772509 & 1 & 0 & 0 & NA & ⋯ & FALSE & FALSE & NA & TRUE & FALSE & TRUE & FALSE & 0 & FALSE & 맞아        \\\\\n\t news & news422,0000600299 & * & default\\_politics & 792690163879772509 & 792690163879772509 & 1 & 0 & 0 & NA & ⋯ & FALSE & FALSE & NA & TRUE & FALSE & TRUE & FALSE & 0 & FALSE & 이          \\\\\n\t news & news422,0000600299 & * & default\\_politics & 792690163879772509 & 792690163879772509 & 1 & 0 & 0 & NA & ⋯ & FALSE & FALSE & NA & TRUE & FALSE & TRUE & FALSE & 0 & FALSE & 거짓말쟁이야\\\\\n\t news & news422,0000600299 & * & default\\_politics & 792690163879772509 & 792690163879772509 & 1 & 0 & 0 & NA & ⋯ & FALSE & FALSE & NA & TRUE & FALSE & TRUE & FALSE & 0 & FALSE & 일본에      \\\\\n\t news & news422,0000600299 & * & default\\_politics & 792690163879772509 & 792690163879772509 & 1 & 0 & 0 & NA & ⋯ & FALSE & FALSE & NA & TRUE & FALSE & TRUE & FALSE & 0 & FALSE & 최고        \\\\\n\t news & news422,0000600299 & * & default\\_politics & 792690163879772509 & 792690163879772509 & 1 & 0 & 0 & NA & ⋯ & FALSE & FALSE & NA & TRUE & FALSE & TRUE & FALSE & 0 & FALSE & 공신은      \\\\\n\t news & news422,0000600299 & * & default\\_politics & 792690163879772509 & 792690163879772509 & 1 & 0 & 0 & NA & ⋯ & FALSE & FALSE & NA & TRUE & FALSE & TRUE & FALSE & 0 & FALSE & 니          \\\\\n\t news & news422,0000600299 & * & default\\_politics & 792690163879772509 & 792690163879772509 & 1 & 0 & 0 & NA & ⋯ & FALSE & FALSE & NA & TRUE & FALSE & TRUE & FALSE & 0 & FALSE & 우두머리    \\\\\n\t news & news422,0000600299 & * & default\\_politics & 792690143042470087 & 792690143042470087 & 1 & 0 & 0 & NA & ⋯ & FALSE & FALSE & NA & TRUE & FALSE & TRUE & FALSE & 0 & FALSE & 이걸        \\\\\n\t news & news422,0000600299 & * & default\\_politics & 792690143042470087 & 792690143042470087 & 1 & 0 & 0 & NA & ⋯ & FALSE & FALSE & NA & TRUE & FALSE & TRUE & FALSE & 0 & FALSE & 쉴드치려는  \\\\\n\t news & news422,0000600299 & * & default\\_politics & 792690143042470087 & 792690143042470087 & 1 & 0 & 0 & NA & ⋯ & FALSE & FALSE & NA & TRUE & FALSE & TRUE & FALSE & 0 & FALSE & 사람들이    \\\\\n\t news & news422,0000600299 & * & default\\_politics & 792690143042470087 & 792690143042470087 & 1 & 0 & 0 & NA & ⋯ & FALSE & FALSE & NA & TRUE & FALSE & TRUE & FALSE & 0 & FALSE & 있네        \\\\\n\t news & news422,0000600299 & * & default\\_politics & 792690143042470087 & 792690143042470087 & 1 & 0 & 0 & NA & ⋯ & FALSE & FALSE & NA & TRUE & FALSE & TRUE & FALSE & 0 & FALSE & 오염수      \\\\\n\t news & news422,0000600299 & * & default\\_politics & 792690143042470087 & 792690143042470087 & 1 & 0 & 0 & NA & ⋯ & FALSE & FALSE & NA & TRUE & FALSE & TRUE & FALSE & 0 & FALSE & 핵          \\\\\n\t news & news422,0000600299 & * & default\\_politics & 792690143042470087 & 792690143042470087 & 1 & 0 & 0 & NA & ⋯ & FALSE & FALSE & NA & TRUE & FALSE & TRUE & FALSE & 0 & FALSE & 폐기물      \\\\\n\t news & news422,0000600299 & * & default\\_politics & 792690143042470087 & 792690143042470087 & 1 & 0 & 0 & NA & ⋯ & FALSE & FALSE & NA & TRUE & FALSE & TRUE & FALSE & 0 & FALSE & 방수        \\\\\n\t news & news422,0000600299 & * & default\\_politics & 792690143042470087 & 792690143042470087 & 1 & 0 & 0 & NA & ⋯ & FALSE & FALSE & NA & TRUE & FALSE & TRUE & FALSE & 0 & FALSE & 찬성하는    \\\\\n\t news & news422,0000600299 & * & default\\_politics & 792690143042470087 & 792690143042470087 & 1 & 0 & 0 & NA & ⋯ & FALSE & FALSE & NA & TRUE & FALSE & TRUE & FALSE & 0 & FALSE & 지지자들    \\\\\n\t news & news422,0000600299 & * & default\\_politics & 792690143042470087 & 792690143042470087 & 1 & 0 & 0 & NA & ⋯ & FALSE & FALSE & NA & TRUE & FALSE & TRUE & FALSE & 0 & FALSE & 모아서      \\\\\n\t news & news422,0000600299 & * & default\\_politics & 792690143042470087 & 792690143042470087 & 1 & 0 & 0 & NA & ⋯ & FALSE & FALSE & NA & TRUE & FALSE & TRUE & FALSE & 0 & FALSE & 1           \\\\\n\t news & news422,0000600299 & * & default\\_politics & 792690143042470087 & 792690143042470087 & 1 & 0 & 0 & NA & ⋯ & FALSE & FALSE & NA & TRUE & FALSE & TRUE & FALSE & 0 & FALSE & 리터씩만    \\\\\n\t news & news422,0000600299 & * & default\\_politics & 792690143042470087 & 792690143042470087 & 1 & 0 & 0 & NA & ⋯ & FALSE & FALSE & NA & TRUE & FALSE & TRUE & FALSE & 0 & FALSE & 시음합시다  \\\\\n\t news & news422,0000600299 & * & default\\_politics & 792690143042470087 & 792690143042470087 & 1 & 0 & 0 & NA & ⋯ & FALSE & FALSE & NA & TRUE & FALSE & TRUE & FALSE & 0 & FALSE & 그          \\\\\n\t news & news422,0000600299 & * & default\\_politics & 792690143042470087 & 792690143042470087 & 1 & 0 & 0 & NA & ⋯ & FALSE & FALSE & NA & TRUE & FALSE & TRUE & FALSE & 0 & FALSE & 뒤에        \\\\\n\t ⋮ & ⋮ & ⋮ & ⋮ & ⋮ & ⋮ & ⋮ & ⋮ & ⋮ & ⋮ & ⋱ & ⋮ & ⋮ & ⋮ & ⋮ & ⋮ & ⋮ & ⋮ & ⋮ & ⋮ & ⋮\\\\\n\t news & news422,0000600299 & * & default\\_politics & 792689253430591772 & 792689253430591772 & 1 & 0 & 0 & NA & ⋯ & FALSE & FALSE & NA & TRUE & FALSE & TRUE & FALSE & 0 & FALSE & 처음부터  \\\\\n\t news & news422,0000600299 & * & default\\_politics & 792689253430591772 & 792689253430591772 & 1 & 0 & 0 & NA & ⋯ & FALSE & FALSE & NA & TRUE & FALSE & TRUE & FALSE & 0 & FALSE & 거절이    \\\\\n\t news & news422,0000600299 & * & default\\_politics & 792689253430591772 & 792689253430591772 & 1 & 0 & 0 & NA & ⋯ & FALSE & FALSE & NA & TRUE & FALSE & TRUE & FALSE & 0 & FALSE & 맞는거다  \\\\\n\t news & news422,0000600299 & * & default\\_politics & 792689253430591772 & 792689253430591772 & 1 & 0 & 0 & NA & ⋯ & FALSE & FALSE & NA & TRUE & FALSE & TRUE & FALSE & 0 & FALSE & 확인하고  \\\\\n\t news & news422,0000600299 & * & default\\_politics & 792689253430591772 & 792689253430591772 & 1 & 0 & 0 & NA & ⋯ & FALSE & FALSE & NA & TRUE & FALSE & TRUE & FALSE & 0 & FALSE & 괜찮다    \\\\\n\t news & news422,0000600299 & * & default\\_politics & 792689253430591772 & 792689253430591772 & 1 & 0 & 0 & NA & ⋯ & FALSE & FALSE & NA & TRUE & FALSE & TRUE & FALSE & 0 & FALSE & 안괜찮다  \\\\\n\t news & news422,0000600299 & * & default\\_politics & 792689253430591772 & 792689253430591772 & 1 & 0 & 0 & NA & ⋯ & FALSE & FALSE & NA & TRUE & FALSE & TRUE & FALSE & 0 & FALSE & 하는게    \\\\\n\t news & news422,0000600299 & * & default\\_politics & 792689253430591772 & 792689253430591772 & 1 & 0 & 0 & NA & ⋯ & FALSE & FALSE & NA & TRUE & FALSE & TRUE & FALSE & 0 & FALSE & 아니라    \\\\\n\t news & news422,0000600299 & * & default\\_politics & 792689253430591772 & 792689253430591772 & 1 & 0 & 0 & NA & ⋯ & FALSE & FALSE & NA & TRUE & FALSE & TRUE & FALSE & 0 & FALSE & ㅋㅋ      \\\\\n\t news & news422,0000600299 & * & default\\_politics & 792688869551112521 & 792688869551112521 & 1 & 0 & 0 & NA & ⋯ & FALSE & FALSE & NA & TRUE & FALSE & TRUE & FALSE & 0 & FALSE & 일본편    \\\\\n\t news & news422,0000600299 & * & default\\_politics & 792688869551112521 & 792688869551112521 & 1 & 0 & 0 & NA & ⋯ & FALSE & FALSE & NA & TRUE & FALSE & TRUE & FALSE & 0 & FALSE & 아니고    \\\\\n\t news & news422,0000600299 & * & default\\_politics & 792688869551112521 & 792688869551112521 & 1 & 0 & 0 & NA & ⋯ & FALSE & FALSE & NA & TRUE & FALSE & TRUE & FALSE & 0 & FALSE & 일본      \\\\\n\t news & news422,0000600299 & * & default\\_politics & 792688869551112521 & 792688869551112521 & 1 & 0 & 0 & NA & ⋯ & FALSE & FALSE & NA & TRUE & FALSE & TRUE & FALSE & 0 & FALSE & 앞잡이    \\\\\n\t news & news422,0000600299 & * & default\\_politics & 792688869551112521 & 792688869551112521 & 1 & 0 & 0 & NA & ⋯ & FALSE & FALSE & NA & TRUE & FALSE & TRUE & FALSE & 0 & FALSE & 아닌가요  \\\\\n\t news & news422,0000600299 & * & default\\_politics & 792688869551112521 & 792688869551112521 & 1 & 0 & 0 & NA & ⋯ & FALSE & FALSE & NA & TRUE & FALSE & TRUE & FALSE & 0 & FALSE & 오염수    \\\\\n\t news & news422,0000600299 & * & default\\_politics & 792688869551112521 & 792688869551112521 & 1 & 0 & 0 & NA & ⋯ & FALSE & FALSE & NA & TRUE & FALSE & TRUE & FALSE & 0 & FALSE & 먹일      \\\\\n\t news & news422,0000600299 & * & default\\_politics & 792688869551112521 & 792688869551112521 & 1 & 0 & 0 & NA & ⋯ & FALSE & FALSE & NA & TRUE & FALSE & TRUE & FALSE & 0 & FALSE & 분들이지요\\\\\n\t news & news422,0000600299 & * & default\\_politics & 792688712432484450 & 792688712432484450 & 1 & 0 & 0 & NA & ⋯ & FALSE & FALSE & NA & TRUE & FALSE & TRUE & FALSE & 0 & FALSE & 우상호    \\\\\n\t news & news422,0000600299 & * & default\\_politics & 792688712432484450 & 792688712432484450 & 1 & 0 & 0 & NA & ⋯ & FALSE & FALSE & NA & TRUE & FALSE & TRUE & FALSE & 0 & FALSE & 이인간    \\\\\n\t news & news422,0000600299 & * & default\\_politics & 792688712432484450 & 792688712432484450 & 1 & 0 & 0 & NA & ⋯ & FALSE & FALSE & NA & TRUE & FALSE & TRUE & FALSE & 0 & FALSE & 주사파해서\\\\\n\t news & news422,0000600299 & * & default\\_politics & 792688712432484450 & 792688712432484450 & 1 & 0 & 0 & NA & ⋯ & FALSE & FALSE & NA & TRUE & FALSE & TRUE & FALSE & 0 & FALSE & 뷰귀영화를\\\\\n\t news & news422,0000600299 & * & default\\_politics & 792688712432484450 & 792688712432484450 & 1 & 0 & 0 & NA & ⋯ & FALSE & FALSE & NA & TRUE & FALSE & TRUE & FALSE & 0 & FALSE & 누리고    \\\\\n\t news & news422,0000600299 & * & default\\_politics & 792688712432484450 & 792688712432484450 & 1 & 0 & 0 & NA & ⋯ & FALSE & FALSE & NA & TRUE & FALSE & TRUE & FALSE & 0 & FALSE & 있는      \\\\\n\t news & news422,0000600299 & * & default\\_politics & 792688712432484450 & 792688712432484450 & 1 & 0 & 0 & NA & ⋯ & FALSE & FALSE & NA & TRUE & FALSE & TRUE & FALSE & 0 & FALSE & 말쫑이다  \\\\\n\t news & news422,0000600299 & * & default\\_politics & 792688712432484450 & 792688712432484450 & 1 & 0 & 0 & NA & ⋯ & FALSE & FALSE & NA & TRUE & FALSE & TRUE & FALSE & 0 & FALSE & 리인영    \\\\\n\t news & news422,0000600299 & * & default\\_politics & 792688712432484450 & 792688712432484450 & 1 & 0 & 0 & NA & ⋯ & FALSE & FALSE & NA & TRUE & FALSE & TRUE & FALSE & 0 & FALSE & 림종석    \\\\\n\t news & news422,0000600299 & * & default\\_politics & 792688712432484450 & 792688712432484450 & 1 & 0 & 0 & NA & ⋯ & FALSE & FALSE & NA & TRUE & FALSE & TRUE & FALSE & 0 & FALSE & 송영길    \\\\\n\t news & news422,0000600299 & * & default\\_politics & 792688712432484450 & 792688712432484450 & 1 & 0 & 0 & NA & ⋯ & FALSE & FALSE & NA & TRUE & FALSE & TRUE & FALSE & 0 & FALSE & 과        \\\\\n\t news & news422,0000600299 & * & default\\_politics & 792688712432484450 & 792688712432484450 & 1 & 0 & 0 & NA & ⋯ & FALSE & FALSE & NA & TRUE & FALSE & TRUE & FALSE & 0 & FALSE & 함께      \\\\\n\t news & news422,0000600299 & * & default\\_politics & 792688712432484450 & 792688712432484450 & 1 & 0 & 0 & NA & ⋯ & FALSE & FALSE & NA & TRUE & FALSE & TRUE & FALSE & 0 & FALSE & 월북하라  \\\\\n\\end{tabular}\n",
            "text/markdown": "\nA tibble: 181 × 85\n\n| ticket &lt;chr&gt; | objectId &lt;chr&gt; | categoryId &lt;chr&gt; | templateId &lt;chr&gt; | commentNo &lt;chr&gt; | parentCommentNo &lt;chr&gt; | replyLevel &lt;int&gt; | replyCount &lt;int&gt; | replyAllCount &lt;int&gt; | replyPreviewNo &lt;lgl&gt; | ⋯ ⋯ | blind &lt;lgl&gt; | secret &lt;lgl&gt; | profileUserId &lt;lgl&gt; | exposeByCountry &lt;lgl&gt; | validateBanWords &lt;lgl&gt; | containText &lt;lgl&gt; | virtual &lt;lgl&gt; | originalStatus &lt;int&gt; | anonymous &lt;lgl&gt; | ws &lt;chr&gt; |\n|---|---|---|---|---|---|---|---|---|---|---|---|---|---|---|---|---|---|---|---|---|\n| news | news422,0000600299 | * | default_politics | 792690251121295417 | 792690251121295417 | 1 | 0 | 0 | NA | ⋯ | FALSE | FALSE | NA | TRUE | FALSE | TRUE | FALSE | 0 | FALSE | 뭐           |\n| news | news422,0000600299 | * | default_politics | 792690251121295417 | 792690251121295417 | 1 | 0 | 0 | NA | ⋯ | FALSE | FALSE | NA | TRUE | FALSE | TRUE | FALSE | 0 | FALSE | 얼마나       |\n| news | news422,0000600299 | * | default_politics | 792690251121295417 | 792690251121295417 | 1 | 0 | 0 | NA | ⋯ | FALSE | FALSE | NA | TRUE | FALSE | TRUE | FALSE | 0 | FALSE | 받아묵엇을꼬 |\n| news | news422,0000600299 | * | default_politics | 792690163879772509 | 792690163879772509 | 1 | 0 | 0 | NA | ⋯ | FALSE | FALSE | NA | TRUE | FALSE | TRUE | FALSE | 0 | FALSE | 일본에       |\n| news | news422,0000600299 | * | default_politics | 792690163879772509 | 792690163879772509 | 1 | 0 | 0 | NA | ⋯ | FALSE | FALSE | NA | TRUE | FALSE | TRUE | FALSE | 0 | FALSE | 충신         |\n| news | news422,0000600299 | * | default_politics | 792690163879772509 | 792690163879772509 | 1 | 0 | 0 | NA | ⋯ | FALSE | FALSE | NA | TRUE | FALSE | TRUE | FALSE | 0 | FALSE | 들러리       |\n| news | news422,0000600299 | * | default_politics | 792690163879772509 | 792690163879772509 | 1 | 0 | 0 | NA | ⋯ | FALSE | FALSE | NA | TRUE | FALSE | TRUE | FALSE | 0 | FALSE | 맞아         |\n| news | news422,0000600299 | * | default_politics | 792690163879772509 | 792690163879772509 | 1 | 0 | 0 | NA | ⋯ | FALSE | FALSE | NA | TRUE | FALSE | TRUE | FALSE | 0 | FALSE | 이           |\n| news | news422,0000600299 | * | default_politics | 792690163879772509 | 792690163879772509 | 1 | 0 | 0 | NA | ⋯ | FALSE | FALSE | NA | TRUE | FALSE | TRUE | FALSE | 0 | FALSE | 거짓말쟁이야 |\n| news | news422,0000600299 | * | default_politics | 792690163879772509 | 792690163879772509 | 1 | 0 | 0 | NA | ⋯ | FALSE | FALSE | NA | TRUE | FALSE | TRUE | FALSE | 0 | FALSE | 일본에       |\n| news | news422,0000600299 | * | default_politics | 792690163879772509 | 792690163879772509 | 1 | 0 | 0 | NA | ⋯ | FALSE | FALSE | NA | TRUE | FALSE | TRUE | FALSE | 0 | FALSE | 최고         |\n| news | news422,0000600299 | * | default_politics | 792690163879772509 | 792690163879772509 | 1 | 0 | 0 | NA | ⋯ | FALSE | FALSE | NA | TRUE | FALSE | TRUE | FALSE | 0 | FALSE | 공신은       |\n| news | news422,0000600299 | * | default_politics | 792690163879772509 | 792690163879772509 | 1 | 0 | 0 | NA | ⋯ | FALSE | FALSE | NA | TRUE | FALSE | TRUE | FALSE | 0 | FALSE | 니           |\n| news | news422,0000600299 | * | default_politics | 792690163879772509 | 792690163879772509 | 1 | 0 | 0 | NA | ⋯ | FALSE | FALSE | NA | TRUE | FALSE | TRUE | FALSE | 0 | FALSE | 우두머리     |\n| news | news422,0000600299 | * | default_politics | 792690143042470087 | 792690143042470087 | 1 | 0 | 0 | NA | ⋯ | FALSE | FALSE | NA | TRUE | FALSE | TRUE | FALSE | 0 | FALSE | 이걸         |\n| news | news422,0000600299 | * | default_politics | 792690143042470087 | 792690143042470087 | 1 | 0 | 0 | NA | ⋯ | FALSE | FALSE | NA | TRUE | FALSE | TRUE | FALSE | 0 | FALSE | 쉴드치려는   |\n| news | news422,0000600299 | * | default_politics | 792690143042470087 | 792690143042470087 | 1 | 0 | 0 | NA | ⋯ | FALSE | FALSE | NA | TRUE | FALSE | TRUE | FALSE | 0 | FALSE | 사람들이     |\n| news | news422,0000600299 | * | default_politics | 792690143042470087 | 792690143042470087 | 1 | 0 | 0 | NA | ⋯ | FALSE | FALSE | NA | TRUE | FALSE | TRUE | FALSE | 0 | FALSE | 있네         |\n| news | news422,0000600299 | * | default_politics | 792690143042470087 | 792690143042470087 | 1 | 0 | 0 | NA | ⋯ | FALSE | FALSE | NA | TRUE | FALSE | TRUE | FALSE | 0 | FALSE | 오염수       |\n| news | news422,0000600299 | * | default_politics | 792690143042470087 | 792690143042470087 | 1 | 0 | 0 | NA | ⋯ | FALSE | FALSE | NA | TRUE | FALSE | TRUE | FALSE | 0 | FALSE | 핵           |\n| news | news422,0000600299 | * | default_politics | 792690143042470087 | 792690143042470087 | 1 | 0 | 0 | NA | ⋯ | FALSE | FALSE | NA | TRUE | FALSE | TRUE | FALSE | 0 | FALSE | 폐기물       |\n| news | news422,0000600299 | * | default_politics | 792690143042470087 | 792690143042470087 | 1 | 0 | 0 | NA | ⋯ | FALSE | FALSE | NA | TRUE | FALSE | TRUE | FALSE | 0 | FALSE | 방수         |\n| news | news422,0000600299 | * | default_politics | 792690143042470087 | 792690143042470087 | 1 | 0 | 0 | NA | ⋯ | FALSE | FALSE | NA | TRUE | FALSE | TRUE | FALSE | 0 | FALSE | 찬성하는     |\n| news | news422,0000600299 | * | default_politics | 792690143042470087 | 792690143042470087 | 1 | 0 | 0 | NA | ⋯ | FALSE | FALSE | NA | TRUE | FALSE | TRUE | FALSE | 0 | FALSE | 지지자들     |\n| news | news422,0000600299 | * | default_politics | 792690143042470087 | 792690143042470087 | 1 | 0 | 0 | NA | ⋯ | FALSE | FALSE | NA | TRUE | FALSE | TRUE | FALSE | 0 | FALSE | 모아서       |\n| news | news422,0000600299 | * | default_politics | 792690143042470087 | 792690143042470087 | 1 | 0 | 0 | NA | ⋯ | FALSE | FALSE | NA | TRUE | FALSE | TRUE | FALSE | 0 | FALSE | 1            |\n| news | news422,0000600299 | * | default_politics | 792690143042470087 | 792690143042470087 | 1 | 0 | 0 | NA | ⋯ | FALSE | FALSE | NA | TRUE | FALSE | TRUE | FALSE | 0 | FALSE | 리터씩만     |\n| news | news422,0000600299 | * | default_politics | 792690143042470087 | 792690143042470087 | 1 | 0 | 0 | NA | ⋯ | FALSE | FALSE | NA | TRUE | FALSE | TRUE | FALSE | 0 | FALSE | 시음합시다   |\n| news | news422,0000600299 | * | default_politics | 792690143042470087 | 792690143042470087 | 1 | 0 | 0 | NA | ⋯ | FALSE | FALSE | NA | TRUE | FALSE | TRUE | FALSE | 0 | FALSE | 그           |\n| news | news422,0000600299 | * | default_politics | 792690143042470087 | 792690143042470087 | 1 | 0 | 0 | NA | ⋯ | FALSE | FALSE | NA | TRUE | FALSE | TRUE | FALSE | 0 | FALSE | 뒤에         |\n| ⋮ | ⋮ | ⋮ | ⋮ | ⋮ | ⋮ | ⋮ | ⋮ | ⋮ | ⋮ | ⋱ | ⋮ | ⋮ | ⋮ | ⋮ | ⋮ | ⋮ | ⋮ | ⋮ | ⋮ | ⋮ |\n| news | news422,0000600299 | * | default_politics | 792689253430591772 | 792689253430591772 | 1 | 0 | 0 | NA | ⋯ | FALSE | FALSE | NA | TRUE | FALSE | TRUE | FALSE | 0 | FALSE | 처음부터   |\n| news | news422,0000600299 | * | default_politics | 792689253430591772 | 792689253430591772 | 1 | 0 | 0 | NA | ⋯ | FALSE | FALSE | NA | TRUE | FALSE | TRUE | FALSE | 0 | FALSE | 거절이     |\n| news | news422,0000600299 | * | default_politics | 792689253430591772 | 792689253430591772 | 1 | 0 | 0 | NA | ⋯ | FALSE | FALSE | NA | TRUE | FALSE | TRUE | FALSE | 0 | FALSE | 맞는거다   |\n| news | news422,0000600299 | * | default_politics | 792689253430591772 | 792689253430591772 | 1 | 0 | 0 | NA | ⋯ | FALSE | FALSE | NA | TRUE | FALSE | TRUE | FALSE | 0 | FALSE | 확인하고   |\n| news | news422,0000600299 | * | default_politics | 792689253430591772 | 792689253430591772 | 1 | 0 | 0 | NA | ⋯ | FALSE | FALSE | NA | TRUE | FALSE | TRUE | FALSE | 0 | FALSE | 괜찮다     |\n| news | news422,0000600299 | * | default_politics | 792689253430591772 | 792689253430591772 | 1 | 0 | 0 | NA | ⋯ | FALSE | FALSE | NA | TRUE | FALSE | TRUE | FALSE | 0 | FALSE | 안괜찮다   |\n| news | news422,0000600299 | * | default_politics | 792689253430591772 | 792689253430591772 | 1 | 0 | 0 | NA | ⋯ | FALSE | FALSE | NA | TRUE | FALSE | TRUE | FALSE | 0 | FALSE | 하는게     |\n| news | news422,0000600299 | * | default_politics | 792689253430591772 | 792689253430591772 | 1 | 0 | 0 | NA | ⋯ | FALSE | FALSE | NA | TRUE | FALSE | TRUE | FALSE | 0 | FALSE | 아니라     |\n| news | news422,0000600299 | * | default_politics | 792689253430591772 | 792689253430591772 | 1 | 0 | 0 | NA | ⋯ | FALSE | FALSE | NA | TRUE | FALSE | TRUE | FALSE | 0 | FALSE | ㅋㅋ       |\n| news | news422,0000600299 | * | default_politics | 792688869551112521 | 792688869551112521 | 1 | 0 | 0 | NA | ⋯ | FALSE | FALSE | NA | TRUE | FALSE | TRUE | FALSE | 0 | FALSE | 일본편     |\n| news | news422,0000600299 | * | default_politics | 792688869551112521 | 792688869551112521 | 1 | 0 | 0 | NA | ⋯ | FALSE | FALSE | NA | TRUE | FALSE | TRUE | FALSE | 0 | FALSE | 아니고     |\n| news | news422,0000600299 | * | default_politics | 792688869551112521 | 792688869551112521 | 1 | 0 | 0 | NA | ⋯ | FALSE | FALSE | NA | TRUE | FALSE | TRUE | FALSE | 0 | FALSE | 일본       |\n| news | news422,0000600299 | * | default_politics | 792688869551112521 | 792688869551112521 | 1 | 0 | 0 | NA | ⋯ | FALSE | FALSE | NA | TRUE | FALSE | TRUE | FALSE | 0 | FALSE | 앞잡이     |\n| news | news422,0000600299 | * | default_politics | 792688869551112521 | 792688869551112521 | 1 | 0 | 0 | NA | ⋯ | FALSE | FALSE | NA | TRUE | FALSE | TRUE | FALSE | 0 | FALSE | 아닌가요   |\n| news | news422,0000600299 | * | default_politics | 792688869551112521 | 792688869551112521 | 1 | 0 | 0 | NA | ⋯ | FALSE | FALSE | NA | TRUE | FALSE | TRUE | FALSE | 0 | FALSE | 오염수     |\n| news | news422,0000600299 | * | default_politics | 792688869551112521 | 792688869551112521 | 1 | 0 | 0 | NA | ⋯ | FALSE | FALSE | NA | TRUE | FALSE | TRUE | FALSE | 0 | FALSE | 먹일       |\n| news | news422,0000600299 | * | default_politics | 792688869551112521 | 792688869551112521 | 1 | 0 | 0 | NA | ⋯ | FALSE | FALSE | NA | TRUE | FALSE | TRUE | FALSE | 0 | FALSE | 분들이지요 |\n| news | news422,0000600299 | * | default_politics | 792688712432484450 | 792688712432484450 | 1 | 0 | 0 | NA | ⋯ | FALSE | FALSE | NA | TRUE | FALSE | TRUE | FALSE | 0 | FALSE | 우상호     |\n| news | news422,0000600299 | * | default_politics | 792688712432484450 | 792688712432484450 | 1 | 0 | 0 | NA | ⋯ | FALSE | FALSE | NA | TRUE | FALSE | TRUE | FALSE | 0 | FALSE | 이인간     |\n| news | news422,0000600299 | * | default_politics | 792688712432484450 | 792688712432484450 | 1 | 0 | 0 | NA | ⋯ | FALSE | FALSE | NA | TRUE | FALSE | TRUE | FALSE | 0 | FALSE | 주사파해서 |\n| news | news422,0000600299 | * | default_politics | 792688712432484450 | 792688712432484450 | 1 | 0 | 0 | NA | ⋯ | FALSE | FALSE | NA | TRUE | FALSE | TRUE | FALSE | 0 | FALSE | 뷰귀영화를 |\n| news | news422,0000600299 | * | default_politics | 792688712432484450 | 792688712432484450 | 1 | 0 | 0 | NA | ⋯ | FALSE | FALSE | NA | TRUE | FALSE | TRUE | FALSE | 0 | FALSE | 누리고     |\n| news | news422,0000600299 | * | default_politics | 792688712432484450 | 792688712432484450 | 1 | 0 | 0 | NA | ⋯ | FALSE | FALSE | NA | TRUE | FALSE | TRUE | FALSE | 0 | FALSE | 있는       |\n| news | news422,0000600299 | * | default_politics | 792688712432484450 | 792688712432484450 | 1 | 0 | 0 | NA | ⋯ | FALSE | FALSE | NA | TRUE | FALSE | TRUE | FALSE | 0 | FALSE | 말쫑이다   |\n| news | news422,0000600299 | * | default_politics | 792688712432484450 | 792688712432484450 | 1 | 0 | 0 | NA | ⋯ | FALSE | FALSE | NA | TRUE | FALSE | TRUE | FALSE | 0 | FALSE | 리인영     |\n| news | news422,0000600299 | * | default_politics | 792688712432484450 | 792688712432484450 | 1 | 0 | 0 | NA | ⋯ | FALSE | FALSE | NA | TRUE | FALSE | TRUE | FALSE | 0 | FALSE | 림종석     |\n| news | news422,0000600299 | * | default_politics | 792688712432484450 | 792688712432484450 | 1 | 0 | 0 | NA | ⋯ | FALSE | FALSE | NA | TRUE | FALSE | TRUE | FALSE | 0 | FALSE | 송영길     |\n| news | news422,0000600299 | * | default_politics | 792688712432484450 | 792688712432484450 | 1 | 0 | 0 | NA | ⋯ | FALSE | FALSE | NA | TRUE | FALSE | TRUE | FALSE | 0 | FALSE | 과         |\n| news | news422,0000600299 | * | default_politics | 792688712432484450 | 792688712432484450 | 1 | 0 | 0 | NA | ⋯ | FALSE | FALSE | NA | TRUE | FALSE | TRUE | FALSE | 0 | FALSE | 함께       |\n| news | news422,0000600299 | * | default_politics | 792688712432484450 | 792688712432484450 | 1 | 0 | 0 | NA | ⋯ | FALSE | FALSE | NA | TRUE | FALSE | TRUE | FALSE | 0 | FALSE | 월북하라   |\n\n",
            "text/plain": [
              "    ticket objectId           categoryId templateId       commentNo         \n",
              "1   news   news422,0000600299 *          default_politics 792690251121295417\n",
              "2   news   news422,0000600299 *          default_politics 792690251121295417\n",
              "3   news   news422,0000600299 *          default_politics 792690251121295417\n",
              "4   news   news422,0000600299 *          default_politics 792690163879772509\n",
              "5   news   news422,0000600299 *          default_politics 792690163879772509\n",
              "6   news   news422,0000600299 *          default_politics 792690163879772509\n",
              "7   news   news422,0000600299 *          default_politics 792690163879772509\n",
              "8   news   news422,0000600299 *          default_politics 792690163879772509\n",
              "9   news   news422,0000600299 *          default_politics 792690163879772509\n",
              "10  news   news422,0000600299 *          default_politics 792690163879772509\n",
              "11  news   news422,0000600299 *          default_politics 792690163879772509\n",
              "12  news   news422,0000600299 *          default_politics 792690163879772509\n",
              "13  news   news422,0000600299 *          default_politics 792690163879772509\n",
              "14  news   news422,0000600299 *          default_politics 792690163879772509\n",
              "15  news   news422,0000600299 *          default_politics 792690143042470087\n",
              "16  news   news422,0000600299 *          default_politics 792690143042470087\n",
              "17  news   news422,0000600299 *          default_politics 792690143042470087\n",
              "18  news   news422,0000600299 *          default_politics 792690143042470087\n",
              "19  news   news422,0000600299 *          default_politics 792690143042470087\n",
              "20  news   news422,0000600299 *          default_politics 792690143042470087\n",
              "21  news   news422,0000600299 *          default_politics 792690143042470087\n",
              "22  news   news422,0000600299 *          default_politics 792690143042470087\n",
              "23  news   news422,0000600299 *          default_politics 792690143042470087\n",
              "24  news   news422,0000600299 *          default_politics 792690143042470087\n",
              "25  news   news422,0000600299 *          default_politics 792690143042470087\n",
              "26  news   news422,0000600299 *          default_politics 792690143042470087\n",
              "27  news   news422,0000600299 *          default_politics 792690143042470087\n",
              "28  news   news422,0000600299 *          default_politics 792690143042470087\n",
              "29  news   news422,0000600299 *          default_politics 792690143042470087\n",
              "30  news   news422,0000600299 *          default_politics 792690143042470087\n",
              "⋮   ⋮      ⋮                  ⋮          ⋮                ⋮                 \n",
              "152 news   news422,0000600299 *          default_politics 792689253430591772\n",
              "153 news   news422,0000600299 *          default_politics 792689253430591772\n",
              "154 news   news422,0000600299 *          default_politics 792689253430591772\n",
              "155 news   news422,0000600299 *          default_politics 792689253430591772\n",
              "156 news   news422,0000600299 *          default_politics 792689253430591772\n",
              "157 news   news422,0000600299 *          default_politics 792689253430591772\n",
              "158 news   news422,0000600299 *          default_politics 792689253430591772\n",
              "159 news   news422,0000600299 *          default_politics 792689253430591772\n",
              "160 news   news422,0000600299 *          default_politics 792689253430591772\n",
              "161 news   news422,0000600299 *          default_politics 792688869551112521\n",
              "162 news   news422,0000600299 *          default_politics 792688869551112521\n",
              "163 news   news422,0000600299 *          default_politics 792688869551112521\n",
              "164 news   news422,0000600299 *          default_politics 792688869551112521\n",
              "165 news   news422,0000600299 *          default_politics 792688869551112521\n",
              "166 news   news422,0000600299 *          default_politics 792688869551112521\n",
              "167 news   news422,0000600299 *          default_politics 792688869551112521\n",
              "168 news   news422,0000600299 *          default_politics 792688869551112521\n",
              "169 news   news422,0000600299 *          default_politics 792688712432484450\n",
              "170 news   news422,0000600299 *          default_politics 792688712432484450\n",
              "171 news   news422,0000600299 *          default_politics 792688712432484450\n",
              "172 news   news422,0000600299 *          default_politics 792688712432484450\n",
              "173 news   news422,0000600299 *          default_politics 792688712432484450\n",
              "174 news   news422,0000600299 *          default_politics 792688712432484450\n",
              "175 news   news422,0000600299 *          default_politics 792688712432484450\n",
              "176 news   news422,0000600299 *          default_politics 792688712432484450\n",
              "177 news   news422,0000600299 *          default_politics 792688712432484450\n",
              "178 news   news422,0000600299 *          default_politics 792688712432484450\n",
              "179 news   news422,0000600299 *          default_politics 792688712432484450\n",
              "180 news   news422,0000600299 *          default_politics 792688712432484450\n",
              "181 news   news422,0000600299 *          default_politics 792688712432484450\n",
              "    parentCommentNo    replyLevel replyCount replyAllCount replyPreviewNo ⋯\n",
              "1   792690251121295417 1          0          0             NA             ⋯\n",
              "2   792690251121295417 1          0          0             NA             ⋯\n",
              "3   792690251121295417 1          0          0             NA             ⋯\n",
              "4   792690163879772509 1          0          0             NA             ⋯\n",
              "5   792690163879772509 1          0          0             NA             ⋯\n",
              "6   792690163879772509 1          0          0             NA             ⋯\n",
              "7   792690163879772509 1          0          0             NA             ⋯\n",
              "8   792690163879772509 1          0          0             NA             ⋯\n",
              "9   792690163879772509 1          0          0             NA             ⋯\n",
              "10  792690163879772509 1          0          0             NA             ⋯\n",
              "11  792690163879772509 1          0          0             NA             ⋯\n",
              "12  792690163879772509 1          0          0             NA             ⋯\n",
              "13  792690163879772509 1          0          0             NA             ⋯\n",
              "14  792690163879772509 1          0          0             NA             ⋯\n",
              "15  792690143042470087 1          0          0             NA             ⋯\n",
              "16  792690143042470087 1          0          0             NA             ⋯\n",
              "17  792690143042470087 1          0          0             NA             ⋯\n",
              "18  792690143042470087 1          0          0             NA             ⋯\n",
              "19  792690143042470087 1          0          0             NA             ⋯\n",
              "20  792690143042470087 1          0          0             NA             ⋯\n",
              "21  792690143042470087 1          0          0             NA             ⋯\n",
              "22  792690143042470087 1          0          0             NA             ⋯\n",
              "23  792690143042470087 1          0          0             NA             ⋯\n",
              "24  792690143042470087 1          0          0             NA             ⋯\n",
              "25  792690143042470087 1          0          0             NA             ⋯\n",
              "26  792690143042470087 1          0          0             NA             ⋯\n",
              "27  792690143042470087 1          0          0             NA             ⋯\n",
              "28  792690143042470087 1          0          0             NA             ⋯\n",
              "29  792690143042470087 1          0          0             NA             ⋯\n",
              "30  792690143042470087 1          0          0             NA             ⋯\n",
              "⋮   ⋮                  ⋮          ⋮          ⋮             ⋮              ⋱\n",
              "152 792689253430591772 1          0          0             NA             ⋯\n",
              "153 792689253430591772 1          0          0             NA             ⋯\n",
              "154 792689253430591772 1          0          0             NA             ⋯\n",
              "155 792689253430591772 1          0          0             NA             ⋯\n",
              "156 792689253430591772 1          0          0             NA             ⋯\n",
              "157 792689253430591772 1          0          0             NA             ⋯\n",
              "158 792689253430591772 1          0          0             NA             ⋯\n",
              "159 792689253430591772 1          0          0             NA             ⋯\n",
              "160 792689253430591772 1          0          0             NA             ⋯\n",
              "161 792688869551112521 1          0          0             NA             ⋯\n",
              "162 792688869551112521 1          0          0             NA             ⋯\n",
              "163 792688869551112521 1          0          0             NA             ⋯\n",
              "164 792688869551112521 1          0          0             NA             ⋯\n",
              "165 792688869551112521 1          0          0             NA             ⋯\n",
              "166 792688869551112521 1          0          0             NA             ⋯\n",
              "167 792688869551112521 1          0          0             NA             ⋯\n",
              "168 792688869551112521 1          0          0             NA             ⋯\n",
              "169 792688712432484450 1          0          0             NA             ⋯\n",
              "170 792688712432484450 1          0          0             NA             ⋯\n",
              "171 792688712432484450 1          0          0             NA             ⋯\n",
              "172 792688712432484450 1          0          0             NA             ⋯\n",
              "173 792688712432484450 1          0          0             NA             ⋯\n",
              "174 792688712432484450 1          0          0             NA             ⋯\n",
              "175 792688712432484450 1          0          0             NA             ⋯\n",
              "176 792688712432484450 1          0          0             NA             ⋯\n",
              "177 792688712432484450 1          0          0             NA             ⋯\n",
              "178 792688712432484450 1          0          0             NA             ⋯\n",
              "179 792688712432484450 1          0          0             NA             ⋯\n",
              "180 792688712432484450 1          0          0             NA             ⋯\n",
              "181 792688712432484450 1          0          0             NA             ⋯\n",
              "    blind secret profileUserId exposeByCountry validateBanWords containText\n",
              "1   FALSE FALSE  NA            TRUE            FALSE            TRUE       \n",
              "2   FALSE FALSE  NA            TRUE            FALSE            TRUE       \n",
              "3   FALSE FALSE  NA            TRUE            FALSE            TRUE       \n",
              "4   FALSE FALSE  NA            TRUE            FALSE            TRUE       \n",
              "5   FALSE FALSE  NA            TRUE            FALSE            TRUE       \n",
              "6   FALSE FALSE  NA            TRUE            FALSE            TRUE       \n",
              "7   FALSE FALSE  NA            TRUE            FALSE            TRUE       \n",
              "8   FALSE FALSE  NA            TRUE            FALSE            TRUE       \n",
              "9   FALSE FALSE  NA            TRUE            FALSE            TRUE       \n",
              "10  FALSE FALSE  NA            TRUE            FALSE            TRUE       \n",
              "11  FALSE FALSE  NA            TRUE            FALSE            TRUE       \n",
              "12  FALSE FALSE  NA            TRUE            FALSE            TRUE       \n",
              "13  FALSE FALSE  NA            TRUE            FALSE            TRUE       \n",
              "14  FALSE FALSE  NA            TRUE            FALSE            TRUE       \n",
              "15  FALSE FALSE  NA            TRUE            FALSE            TRUE       \n",
              "16  FALSE FALSE  NA            TRUE            FALSE            TRUE       \n",
              "17  FALSE FALSE  NA            TRUE            FALSE            TRUE       \n",
              "18  FALSE FALSE  NA            TRUE            FALSE            TRUE       \n",
              "19  FALSE FALSE  NA            TRUE            FALSE            TRUE       \n",
              "20  FALSE FALSE  NA            TRUE            FALSE            TRUE       \n",
              "21  FALSE FALSE  NA            TRUE            FALSE            TRUE       \n",
              "22  FALSE FALSE  NA            TRUE            FALSE            TRUE       \n",
              "23  FALSE FALSE  NA            TRUE            FALSE            TRUE       \n",
              "24  FALSE FALSE  NA            TRUE            FALSE            TRUE       \n",
              "25  FALSE FALSE  NA            TRUE            FALSE            TRUE       \n",
              "26  FALSE FALSE  NA            TRUE            FALSE            TRUE       \n",
              "27  FALSE FALSE  NA            TRUE            FALSE            TRUE       \n",
              "28  FALSE FALSE  NA            TRUE            FALSE            TRUE       \n",
              "29  FALSE FALSE  NA            TRUE            FALSE            TRUE       \n",
              "30  FALSE FALSE  NA            TRUE            FALSE            TRUE       \n",
              "⋮   ⋮     ⋮      ⋮             ⋮               ⋮                ⋮          \n",
              "152 FALSE FALSE  NA            TRUE            FALSE            TRUE       \n",
              "153 FALSE FALSE  NA            TRUE            FALSE            TRUE       \n",
              "154 FALSE FALSE  NA            TRUE            FALSE            TRUE       \n",
              "155 FALSE FALSE  NA            TRUE            FALSE            TRUE       \n",
              "156 FALSE FALSE  NA            TRUE            FALSE            TRUE       \n",
              "157 FALSE FALSE  NA            TRUE            FALSE            TRUE       \n",
              "158 FALSE FALSE  NA            TRUE            FALSE            TRUE       \n",
              "159 FALSE FALSE  NA            TRUE            FALSE            TRUE       \n",
              "160 FALSE FALSE  NA            TRUE            FALSE            TRUE       \n",
              "161 FALSE FALSE  NA            TRUE            FALSE            TRUE       \n",
              "162 FALSE FALSE  NA            TRUE            FALSE            TRUE       \n",
              "163 FALSE FALSE  NA            TRUE            FALSE            TRUE       \n",
              "164 FALSE FALSE  NA            TRUE            FALSE            TRUE       \n",
              "165 FALSE FALSE  NA            TRUE            FALSE            TRUE       \n",
              "166 FALSE FALSE  NA            TRUE            FALSE            TRUE       \n",
              "167 FALSE FALSE  NA            TRUE            FALSE            TRUE       \n",
              "168 FALSE FALSE  NA            TRUE            FALSE            TRUE       \n",
              "169 FALSE FALSE  NA            TRUE            FALSE            TRUE       \n",
              "170 FALSE FALSE  NA            TRUE            FALSE            TRUE       \n",
              "171 FALSE FALSE  NA            TRUE            FALSE            TRUE       \n",
              "172 FALSE FALSE  NA            TRUE            FALSE            TRUE       \n",
              "173 FALSE FALSE  NA            TRUE            FALSE            TRUE       \n",
              "174 FALSE FALSE  NA            TRUE            FALSE            TRUE       \n",
              "175 FALSE FALSE  NA            TRUE            FALSE            TRUE       \n",
              "176 FALSE FALSE  NA            TRUE            FALSE            TRUE       \n",
              "177 FALSE FALSE  NA            TRUE            FALSE            TRUE       \n",
              "178 FALSE FALSE  NA            TRUE            FALSE            TRUE       \n",
              "179 FALSE FALSE  NA            TRUE            FALSE            TRUE       \n",
              "180 FALSE FALSE  NA            TRUE            FALSE            TRUE       \n",
              "181 FALSE FALSE  NA            TRUE            FALSE            TRUE       \n",
              "    virtual originalStatus anonymous ws          \n",
              "1   FALSE   0              FALSE     뭐          \n",
              "2   FALSE   0              FALSE     얼마나      \n",
              "3   FALSE   0              FALSE     받아묵엇을꼬\n",
              "4   FALSE   0              FALSE     일본에      \n",
              "5   FALSE   0              FALSE     충신        \n",
              "6   FALSE   0              FALSE     들러리      \n",
              "7   FALSE   0              FALSE     맞아        \n",
              "8   FALSE   0              FALSE     이          \n",
              "9   FALSE   0              FALSE     거짓말쟁이야\n",
              "10  FALSE   0              FALSE     일본에      \n",
              "11  FALSE   0              FALSE     최고        \n",
              "12  FALSE   0              FALSE     공신은      \n",
              "13  FALSE   0              FALSE     니          \n",
              "14  FALSE   0              FALSE     우두머리    \n",
              "15  FALSE   0              FALSE     이걸        \n",
              "16  FALSE   0              FALSE     쉴드치려는  \n",
              "17  FALSE   0              FALSE     사람들이    \n",
              "18  FALSE   0              FALSE     있네        \n",
              "19  FALSE   0              FALSE     오염수      \n",
              "20  FALSE   0              FALSE     핵          \n",
              "21  FALSE   0              FALSE     폐기물      \n",
              "22  FALSE   0              FALSE     방수        \n",
              "23  FALSE   0              FALSE     찬성하는    \n",
              "24  FALSE   0              FALSE     지지자들    \n",
              "25  FALSE   0              FALSE     모아서      \n",
              "26  FALSE   0              FALSE     1           \n",
              "27  FALSE   0              FALSE     리터씩만    \n",
              "28  FALSE   0              FALSE     시음합시다  \n",
              "29  FALSE   0              FALSE     그          \n",
              "30  FALSE   0              FALSE     뒤에        \n",
              "⋮   ⋮       ⋮              ⋮         ⋮           \n",
              "152 FALSE   0              FALSE     처음부터    \n",
              "153 FALSE   0              FALSE     거절이      \n",
              "154 FALSE   0              FALSE     맞는거다    \n",
              "155 FALSE   0              FALSE     확인하고    \n",
              "156 FALSE   0              FALSE     괜찮다      \n",
              "157 FALSE   0              FALSE     안괜찮다    \n",
              "158 FALSE   0              FALSE     하는게      \n",
              "159 FALSE   0              FALSE     아니라      \n",
              "160 FALSE   0              FALSE     ㅋㅋ        \n",
              "161 FALSE   0              FALSE     일본편      \n",
              "162 FALSE   0              FALSE     아니고      \n",
              "163 FALSE   0              FALSE     일본        \n",
              "164 FALSE   0              FALSE     앞잡이      \n",
              "165 FALSE   0              FALSE     아닌가요    \n",
              "166 FALSE   0              FALSE     오염수      \n",
              "167 FALSE   0              FALSE     먹일        \n",
              "168 FALSE   0              FALSE     분들이지요  \n",
              "169 FALSE   0              FALSE     우상호      \n",
              "170 FALSE   0              FALSE     이인간      \n",
              "171 FALSE   0              FALSE     주사파해서  \n",
              "172 FALSE   0              FALSE     뷰귀영화를  \n",
              "173 FALSE   0              FALSE     누리고      \n",
              "174 FALSE   0              FALSE     있는        \n",
              "175 FALSE   0              FALSE     말쫑이다    \n",
              "176 FALSE   0              FALSE     리인영      \n",
              "177 FALSE   0              FALSE     림종석      \n",
              "178 FALSE   0              FALSE     송영길      \n",
              "179 FALSE   0              FALSE     과          \n",
              "180 FALSE   0              FALSE     함께        \n",
              "181 FALSE   0              FALSE     월북하라    "
            ]
          },
          "metadata": {},
          "output_type": "display_data"
        }
      ],
      "source": [
        "tar <- \"https://n.news.naver.com/article/422/0000600299?cds=news_edit\"\n",
        "  getAllComment(tar) %>%\n",
        "# select(userName, contents) %>%\n",
        "  unnest_tokens(ws, contents, \"words\") #output=ws, input=contents, token=\"words\""
      ]
    },
    {
      "cell_type": "code",
      "execution_count": null,
      "metadata": {
        "colab": {
          "base_uri": "https://localhost:8080/",
          "height": 374
        },
        "id": "Y5W8JTrk_HbT",
        "outputId": "7da5d0c8-86b5-45ed-bb31-dec8a44fb44f"
      },
      "outputs": [
        {
          "ename": "ERROR",
          "evalue": "ignored",
          "output_type": "error",
          "traceback": [
            "Error in open.connection(x, \"rb\"): SSL peer certificate or SSH remote key was not OK: [www.pa.go.kr:443] SSL certificate problem: unable to get local issuer certificate\nTraceback:\n",
            "1. search_speech(count = 20)",
            "2. xml2::read_html(tar)",
            "3. read_html.default(tar)",
            "4. suppressWarnings(read_xml(x, encoding = encoding, ..., as_html = TRUE, \n .     options = options))",
            "5. withCallingHandlers(expr, warning = function(w) if (inherits(w, \n .     classes)) tryInvokeRestart(\"muffleWarning\"))",
            "6. read_xml(x, encoding = encoding, ..., as_html = TRUE, options = options)",
            "7. read_xml.character(x, encoding = encoding, ..., as_html = TRUE, \n .     options = options)",
            "8. read_xml.connection(con, encoding = encoding, ..., as_html = as_html, \n .     base_url = x, options = options)",
            "9. open(x, \"rb\")",
            "10. open.connection(x, \"rb\")"
          ]
        }
      ],
      "source": [
        "\n",
        "search_speech(count=20)"
      ]
    },
    {
      "cell_type": "code",
      "execution_count": null,
      "metadata": {
        "colab": {
          "base_uri": "https://localhost:8080/",
          "height": 374
        },
        "id": "q0w0B3q0DXJW",
        "outputId": "91ad403e-38a7-4720-d044-4fe37c0a3609"
      },
      "outputs": [
        {
          "ename": "ERROR",
          "evalue": "ignored",
          "output_type": "error",
          "traceback": [
            "Error in open.connection(x, \"rb\"): SSL peer certificate or SSH remote key was not OK: [www.pa.go.kr:443] SSL certificate problem: unable to get local issuer certificate\nTraceback:\n",
            "1. get_president()",
            "2. xml2::read_html(tar)",
            "3. read_html.default(tar)",
            "4. suppressWarnings(read_xml(x, encoding = encoding, ..., as_html = TRUE, \n .     options = options))",
            "5. withCallingHandlers(expr, warning = function(w) if (inherits(w, \n .     classes)) tryInvokeRestart(\"muffleWarning\"))",
            "6. read_xml(x, encoding = encoding, ..., as_html = TRUE, options = options)",
            "7. read_xml.character(x, encoding = encoding, ..., as_html = TRUE, \n .     options = options)",
            "8. read_xml.connection(con, encoding = encoding, ..., as_html = as_html, \n .     base_url = x, options = options)",
            "9. open(x, \"rb\")",
            "10. open.connection(x, \"rb\")"
          ]
        }
      ],
      "source": [
        "# 대통령 리스트 출력\n",
        "get_president()\n",
        "\n",
        "# 분야 리스트 출력\n",
        "get_field()\n",
        "\n",
        "# 유형 리스트 출력\n",
        "get_event()"
      ]
    },
    {
      "cell_type": "code",
      "execution_count": null,
      "metadata": {
        "colab": {
          "base_uri": "https://localhost:8080/",
          "height": 524
        },
        "id": "fiWsIc0L56su",
        "outputId": "66d695fc-7c1e-422b-8fed-dd544ad19996"
      },
      "outputs": [
        {
          "data": {
            "text/plain": [
              "Importance of components:\n",
              "                          PC1     PC2    PC3     PC4\n",
              "Standard deviation     2.0563 0.49262 0.2797 0.15439\n",
              "Proportion of Variance 0.9246 0.05307 0.0171 0.00521\n",
              "Cumulative Proportion  0.9246 0.97769 0.9948 1.00000"
            ]
          },
          "metadata": {},
          "output_type": "display_data"
        },
        {
          "data": {
            "image/png": "[encoded data removed]",
            "text/plain": [
              "Plot with title “temp”"
            ]
          },
          "metadata": {
            "image/png": {
              "height": 420,
              "width": 420
            }
          },
          "output_type": "display_data"
        }
      ],
      "source": [
        "temp = prcomp(iris[1:4])\n",
        "summary(temp)\n",
        "plot(temp)"
      ]
    },
    {
      "cell_type": "code",
      "execution_count": null,
      "metadata": {
        "id": "3Mb1aQX_fIao"
      },
      "outputs": [],
      "source": []
    },
    {
      "cell_type": "code",
      "execution_count": null,
      "metadata": {
        "id": "40fUXNx1DFCe"
      },
      "outputs": [],
      "source": [
        "library(presidentSpeechKr)"
      ]
    },
    {
      "cell_type": "code",
      "execution_count": null,
      "metadata": {
        "colab": {
          "base_uri": "https://localhost:8080/"
        },
        "id": "-NVR3WkSCyqm",
        "outputId": "f05a24e1-233a-440b-c118-12a5bab5fa56"
      },
      "outputs": [
        {
          "name": "stderr",
          "output_type": "stream",
          "text": [
            "Downloading GitHub repo forkonlp/presidentSpeechKr@HEAD\n",
            "\n"
          ]
        },
        {
          "name": "stdout",
          "output_type": "stream",
          "text": [
            "sys      (3.4.1 -> 3.4.2) [CRAN]\n",
            "jsonlite (1.8.3 -> 1.8.4) [CRAN]\n"
          ]
        },
        {
          "name": "stderr",
          "output_type": "stream",
          "text": [
            "Installing 2 packages: sys, jsonlite\n",
            "\n",
            "Installing packages into ‘/usr/local/lib/R/site-library’\n",
            "(as ‘lib’ is unspecified)\n",
            "\n"
          ]
        },
        {
          "name": "stdout",
          "output_type": "stream",
          "text": [
            "\u001b[36m──\u001b[39m \u001b[36mR CMD build\u001b[39m \u001b[36m─────────────────────────────────────────────────────────────────\u001b[39m\n",
            "* checking for file ‘/tmp/RtmpX4iMcY/remotes2d4792e8a52/forkonlp-presidentSpeechKr-353278d/DESCRIPTION’ ... OK\n",
            "* preparing ‘presidentSpeechKr’:\n",
            "* checking DESCRIPTION meta-information ... OK\n",
            "* checking for LF line-endings in source and make files and shell scripts\n",
            "* checking for empty or unneeded directories\n",
            "* building ‘presidentSpeechKr_0.2.1.tar.gz’\n",
            "\n"
          ]
        },
        {
          "name": "stderr",
          "output_type": "stream",
          "text": [
            "Installing package into ‘/usr/local/lib/R/site-library’\n",
            "(as ‘lib’ is unspecified)\n",
            "\n"
          ]
        }
      ],
      "source": [
        "# install.packages(\"remotes\")\n",
        "remotes::install_github(\"forkonlp/presidentSpeechKr\")"
      ]
    },
    {
      "cell_type": "code",
      "execution_count": null,
      "metadata": {
        "colab": {
          "base_uri": "https://localhost:8080/"
        },
        "id": "ZUY3v2C5fKaa",
        "outputId": "222408b9-2838-429f-d92f-be5cd48e78be"
      },
      "outputs": [
        {
          "name": "stderr",
          "output_type": "stream",
          "text": [
            "Installing package into ‘/usr/local/lib/R/site-library’\n",
            "(as ‘lib’ is unspecified)\n",
            "\n"
          ]
        }
      ],
      "source": [
        "install.packages(\"riingo\")"
      ]
    },
    {
      "cell_type": "code",
      "execution_count": null,
      "metadata": {
        "id": "eltiji4zfVF2"
      },
      "outputs": [],
      "source": [
        "library(riingo)\n"
      ]
    },
    {
      "cell_type": "code",
      "execution_count": null,
      "metadata": {
        "colab": {
          "base_uri": "https://localhost:8080/",
          "height": 287
        },
        "id": "0d8JeVMjfb7d",
        "outputId": "0676de54-63e6-47d5-a660-fc8e2a81fcf1"
      },
      "outputs": [
        {
          "ename": "ERROR",
          "evalue": "ignored",
          "output_type": "error",
          "traceback": [
            "\u001b[1m\u001b[33mError\u001b[39m in `glue_stop()`:\u001b[22m\n\u001b[33m!\u001b[39m Please set the `RIINGO_TOKEN` environment variable in an `.Renviron` file using `usethis::edit_r_environ()`, and then restart R. Alternatively, set a once-per-session token using `riingo_set_token()`.\nTraceback:\n",
            "1. riingo_fundamentals_meta(c(\"AAPL\", \"MSFT\"))",
            "2. content_downloader(riingo_url, ticker)",
            "3. retrieve_headers()",
            "4. riingo_get_token()",
            "5. glue_stop(msg)",
            "6. abort(msg)",
            "7. signal_abort(cnd, .file)"
          ]
        }
      ],
      "source": [
        "riingo_fundamentals_meta(c(\"AAPL\", \"MSFT\"))"
      ]
    },
    {
      "cell_type": "code",
      "execution_count": null,
      "metadata": {
        "colab": {
          "base_uri": "https://localhost:8080/",
          "height": 287
        },
        "id": "7cJ_Jl6Mf-Zg",
        "outputId": "3597ca50-0803-4067-e587-eb001046d91d"
      },
      "outputs": [
        {
          "name": "stderr",
          "output_type": "stream",
          "text": [
            "Installing package into ‘/usr/local/lib/R/site-library’\n",
            "(as ‘lib’ is unspecified)\n",
            "\n",
            "Warning message:\n",
            "“package ‘causalforest’ is not available for this version of R\n",
            "\n",
            "A version of this package for your version of R might be available elsewhere,\n",
            "see the ideas at\n",
            "https://cran.r-project.org/doc/manuals/r-patched/R-admin.html#Installing-packages”\n"
          ]
        },
        {
          "ename": "ERROR",
          "evalue": "ignored",
          "output_type": "error",
          "traceback": [
            "Error in library(causalforest): there is no package called ‘causalforest’\nTraceback:\n",
            "1. library(causalforest)"
          ]
        }
      ],
      "source": [
        "# Install and load the necessary packages\n",
        "install.packages(\"causalforest\")\n",
        "library(causalforest)\n",
        "\n",
        "# Create a toy dataset\n",
        "set.seed(123)\n",
        "n <- 1000\n",
        "age <- rnorm(n, 50, 10)\n",
        "gender <- sample(c(\"Male\", \"Female\"), n, replace = TRUE)\n",
        "treatment <- sample(c(0, 1), n, replace = TRUE)\n",
        "health_status <- 50 + 2 * age + 5 * treatment + rnorm(n, 0, 10)\n",
        "data <- data.frame(age, gender, treatment, health_status)\n",
        "\n",
        "# Fit the causal forest model\n",
        "model <- causal_forest(x = data[, c(\"age\", \"gender\")],\n",
        "                       y = data$health_status,\n",
        "                       trt = data$treatment)\n",
        "\n",
        "# Estimate the causal effect\n",
        "causal_effect <- estimate_effect(model, target_units = \"ate\")\n",
        "\n",
        "# Print the estimated causal effect\n",
        "print(causal_effect)\n"
      ]
    },
    {
      "cell_type": "code",
      "execution_count": null,
      "metadata": {
        "colab": {
          "base_uri": "https://localhost:8080/",
          "height": 131
        },
        "id": "onbqvh1M3WSK",
        "outputId": "ba2f3a22-b64a-41fb-bc57-8cdc23754269"
      },
      "outputs": [
        {
          "ename": "ERROR",
          "evalue": "ignored",
          "output_type": "error",
          "traceback": [
            "Error in library(WDI): there is no package called ‘WDI’\nTraceback:\n",
            "1. library(WDI)"
          ]
        }
      ],
      "source": [
        "library(WDI)\n",
        "\n",
        "# Retrieve GDP data\n",
        "gdp_data <- WDI(indicator = \"NY.GDP.MKTP.CD\", start = 1960, end = 2020, extra = FALSE, country = \"US\")\n",
        "gdp_data <- subset(gdp_data, select = c(\"iso2c\", \"year\", \"NY.GDP.MKTP.CD\"))\n",
        "\n",
        "# Retrieve GNI data\n",
        "gni_data <- WDI(indicator = \"NY.GNP.MKTP.CD\", start = 1960, end = 2020, extra = FALSE, country = \"US\")\n",
        "gni_data <- subset(gni_data, select = c(\"iso2c\", \"year\", \"NY.GNP.MKTP.CD\"))\n",
        "\n",
        "# Print the retrieved data\n",
        "print(gdp_data)\n",
        "print(gni_data)\n"
      ]
    },
    {
      "cell_type": "code",
      "execution_count": null,
      "metadata": {
        "colab": {
          "base_uri": "https://localhost:8080/",
          "height": 864
        },
        "id": "7XVXcQbr_peA",
        "outputId": "20e95066-7d90-4c26-843d-0500427d0d16"
      },
      "outputs": [
        {
          "name": "stderr",
          "output_type": "stream",
          "text": [
            "\n",
            "Attaching package: ‘dplyr’\n",
            "\n",
            "\n",
            "The following objects are masked from ‘package:stats’:\n",
            "\n",
            "    filter, lag\n",
            "\n",
            "\n",
            "The following objects are masked from ‘package:base’:\n",
            "\n",
            "    intersect, setdiff, setequal, union\n",
            "\n",
            "\n"
          ]
        },
        {
          "ename": "ERROR",
          "evalue": "ignored",
          "output_type": "error",
          "traceback": [
            "Error in spread(., time, mean_outcome): could not find function \"spread\"\nTraceback:\n",
            "1. data %>% group_by(group, time) %>% summarize(mean_outcome = mean(outcome)) %>% \n .     spread(time, mean_outcome) %>% mutate(diff = After - Before, \n .     diff_group = ifelse(group == \"Treatment\", diff, -diff))",
            "2. mutate(., diff = After - Before, diff_group = ifelse(group == \n .     \"Treatment\", diff, -diff))"
          ]
        },
        {
          "data": {
            "image/png": "[encoded data removed]",
            "text/plain": [
              "plot without title"
            ]
          },
          "metadata": {
            "image/png": {
              "height": 420,
              "width": 420
            }
          },
          "output_type": "display_data"
        }
      ],
      "source": [
        "# Load required packages\n",
        "library(dplyr)\n",
        "library(ggplot2)\n",
        "\n",
        "# Create a data frame with treatment and control groups\n",
        "data <- data.frame(\n",
        "  group = rep(c(\"Treatment\", \"Control\"), each = 10),\n",
        "  time = rep(c(\"Before\", \"After\"), times = 10),\n",
        "  outcome = c(5, 6, 7, 8, 10, 12, 15, 16, 18, 20, 4, 5, 6, 7, 9, 11, 14, 15, 17, 19)\n",
        ")\n",
        "\n",
        "# Visualize the data\n",
        "ggplot(data, aes(x = time, y = outcome, fill = group)) +\n",
        "  geom_bar(stat = \"identity\", position = \"dodge\") +\n",
        "  labs(x = \"Time\", y = \"Outcome\", fill = \"Group\")\n",
        "\n",
        "# Perform Difference-in-Differences analysis\n",
        "diff_in_diff <- data %>%\n",
        "  group_by(group, time) %>%\n",
        "  summarize(mean_outcome = mean(outcome)) %>%\n",
        "  spread(time, mean_outcome) %>%\n",
        "  mutate(diff = After - Before,\n",
        "         diff_group = ifelse(group == \"Treatment\", diff, -diff))\n",
        "\n",
        "# Print the results\n",
        "diff_in_diff\n"
      ]
    },
    {
      "cell_type": "code",
      "execution_count": null,
      "metadata": {
        "id": "mYymMMA1aqQC"
      },
      "outputs": [],
      "source": []
    },
    {
      "cell_type": "code",
      "execution_count": null,
      "metadata": {
        "colab": {
          "base_uri": "https://localhost:8080/",
          "height": 721
        },
        "id": "1roRvbIUa-6_",
        "outputId": "15c4a83f-b256-4ad6-88f7-f675ff79bbaf"
      },
      "outputs": [
        {
          "name": "stderr",
          "output_type": "stream",
          "text": [
            "Installing package into ‘/usr/local/lib/R/site-library’\n",
            "(as ‘lib’ is unspecified)\n",
            "\n",
            "also installing the dependencies ‘xts’, ‘zoo’, ‘TTR’\n",
            "\n",
            "\n",
            "Loading required package: xts\n",
            "\n",
            "Loading required package: zoo\n",
            "\n",
            "\n",
            "Attaching package: ‘zoo’\n",
            "\n",
            "\n",
            "The following objects are masked from ‘package:base’:\n",
            "\n",
            "    as.Date, as.Date.numeric\n",
            "\n",
            "\n",
            "Loading required package: TTR\n",
            "\n",
            "Registered S3 method overwritten by 'quantmod':\n",
            "  method            from\n",
            "  as.zoo.data.frame zoo \n",
            "\n"
          ]
        },
        {
          "ename": "ERROR",
          "evalue": "ignored",
          "output_type": "error",
          "traceback": [
            "Error in getSymbols.yahoo(Symbols = \"USD/EUR\", env = <environment>, verbose = FALSE, : Unable to import “USD/EUR”.\nHTTP error 404.\nTraceback:\n",
            "1. getSymbols(currency_pair, from = start_date, to = end_date)",
            "2. do.call(paste(\"getSymbols.\", symbol.source, sep = \"\"), list(Symbols = current.symbols, \n .     env = env, verbose = verbose, warnings = warnings, auto.assign = auto.assign, \n .     ..., .has1sym. = .has1sym.))",
            "3. getSymbols.yahoo(Symbols = \"USD/EUR\", env = <environment>, verbose = FALSE, \n .     warnings = TRUE, auto.assign = TRUE, from = \"2010-01-01\", \n .     to = \"2020-12-31\", .has1sym. = TRUE)",
            "4. stop(msg)"
          ]
        }
      ],
      "source": [
        "# Load necessary libraries\n",
        "install.packages(\"quantmod\")\n",
        "\n",
        "library(quantmod)\n",
        "library(ggplot2)\n",
        "\n",
        "# Define the currency pair and time period\n",
        "currency_pair <- \"USD/EUR\"\n",
        "start_date <- \"2010-01-01\"\n",
        "end_date <- \"2020-12-31\"\n",
        "\n",
        "# Get the exchange rate data using quantmod\n",
        "getSymbols(currency_pair, from = start_date, to = end_date)\n",
        "exchange_rate <- Ad(get(currency_pair))\n",
        "\n",
        "# Get US interest rate data (e.g., 10-year Treasury yield) from a reliable source\n",
        "# Alternatively, you can use the \"quantmod\" package to fetch the data from online sources\n",
        "\n",
        "# Perform a simple visualization\n",
        "data <- data.frame(Date = index(exchange_rate), ExchangeRate = exchange_rate)\n",
        "ggplot(data, aes(x = Date, y = ExchangeRate)) +\n",
        "  geom_line() +\n",
        "  labs(x = \"Date\", y = \"Exchange Rate\", title = \"USD/EUR Exchange Rate\")\n",
        "\n",
        "# Calculate the interest rate differential\n",
        "# You can subtract the interest rate of the other country from the US interest rate\n",
        "\n",
        "# Perform regression analysis to estimate the relationship between interest rates and exchange rates\n",
        "# You can use the lm() function to fit a regression model, considering other potential factors\n",
        "\n",
        "\n",
        "\n",
        "\n",
        "# Analyze the results and assess the relationship between interest rates and exchange rates\n",
        "# Consider statistical significance, coefficients, and potential limitations or confounding factors\n"
      ]
    },
    {
      "cell_type": "code",
      "execution_count": null,
      "metadata": {
        "colab": {
          "background_save": true,
          "base_uri": "https://localhost:8080/"
        },
        "id": "Rg1Y9MqPjRQY",
        "outputId": "dea80a5e-55ff-4ad8-bef9-8cb8d37f2c5e"
      },
      "outputs": [
        {
          "name": "stderr",
          "output_type": "stream",
          "text": [
            "Loading required package: lubridate\n",
            "\n",
            "\n",
            "Attaching package: ‘lubridate’\n",
            "\n",
            "\n",
            "The following objects are masked from ‘package:base’:\n",
            "\n",
            "    date, intersect, setdiff, union\n",
            "\n",
            "\n",
            "Loading required package: PerformanceAnalytics\n",
            "\n",
            "\n",
            "Attaching package: ‘PerformanceAnalytics’\n",
            "\n",
            "\n",
            "The following object is masked from ‘package:graphics’:\n",
            "\n",
            "    legend\n",
            "\n",
            "\n"
          ]
        }
      ],
      "source": [
        "library(tidyquant)"
      ]
    },
    {
      "cell_type": "code",
      "execution_count": null,
      "metadata": {
        "colab": {
          "base_uri": "https://localhost:8080/",
          "height": 107
        },
        "id": "Xf4dqXIbjL8Q",
        "outputId": "c116dfa8-4294-4ad2-884d-deb3517d26d7"
      },
      "outputs": [
        {
          "ename": "ERROR",
          "evalue": "ignored",
          "output_type": "error",
          "traceback": [
            "Error in tq_get_earnings(stock_symbol): could not find function \"tq_get_earnings\"\nTraceback:\n"
          ]
        }
      ],
      "source": [
        "# Define the stock symbol (e.g., AAPL for Apple)\n",
        "stock_symbol <- \"AAPL\"\n",
        "\n",
        "# Fetch earnings dates\n",
        "earnings_dates <- tq_get_earnings(stock_symbol)\n",
        "earnings_dates"
      ]
    },
    {
      "cell_type": "code",
      "execution_count": null,
      "metadata": {
        "colab": {
          "base_uri": "https://localhost:8080/",
          "height": 399
        },
        "id": "38sY58FoewYP",
        "outputId": "1c81511e-3c87-4c48-c1d8-b4e1876bd166"
      },
      "outputs": [
        {
          "data": {
            "text/plain": [
              "           FEDFUNDS\n",
              "1954-07-01     0.80\n",
              "1954-08-01     1.22\n",
              "1954-09-01     1.07\n",
              "1954-10-01     0.85\n",
              "1954-11-01     0.83\n",
              "1954-12-01     1.28\n",
              "1955-01-01     1.39\n",
              "1955-02-01     1.29\n",
              "1955-03-01     1.35\n",
              "1955-04-01     1.43\n",
              "       ...         \n",
              "2022-09-01     2.56\n",
              "2022-10-01     3.08\n",
              "2022-11-01     3.78\n",
              "2022-12-01     4.10\n",
              "2023-01-01     4.33\n",
              "2023-02-01     4.57\n",
              "2023-03-01     4.65\n",
              "2023-04-01     4.83\n",
              "2023-05-01     5.06\n",
              "2023-06-01     5.08"
            ]
          },
          "metadata": {},
          "output_type": "display_data"
        }
      ],
      "source": [
        "getSymbols(\"FEDFUNDS\", src = \"FRED\", auto.assign = FALSE)"
      ]
    },
    {
      "cell_type": "code",
      "execution_count": null,
      "metadata": {
        "colab": {
          "base_uri": "https://localhost:8080/",
          "height": 270
        },
        "id": "btpPJOBirCDk",
        "outputId": "e0d1dfe0-1d69-49ac-ad7b-6e95bc25a59e"
      },
      "outputs": [
        {
          "ename": "ERROR",
          "evalue": "ignored",
          "output_type": "error",
          "traceback": [
            "Error in getSymbols.FRED(Symbols = \"KRWUSD=X\", env = <environment>, verbose = FALSE, : Unable to import “KRWUSD=X”.\nHTTP error 404.\nTraceback:\n",
            "1. getSymbols(\"KRWUSD=X\", src = \"FRED\")",
            "2. do.call(paste(\"getSymbols.\", symbol.source, sep = \"\"), list(Symbols = current.symbols, \n .     env = env, verbose = verbose, warnings = warnings, auto.assign = auto.assign, \n .     ..., .has1sym. = .has1sym.))",
            "3. getSymbols.FRED(Symbols = \"KRWUSD=X\", env = <environment>, verbose = FALSE, \n .     warnings = TRUE, auto.assign = TRUE, .has1sym. = TRUE)",
            "4. stop(msg)"
          ]
        }
      ],
      "source": [
        "getSymbols(\"KRWUSD=X\", src = \"FRED\")"
      ]
    },
    {
      "cell_type": "code",
      "execution_count": null,
      "metadata": {
        "colab": {
          "base_uri": "https://localhost:8080/",
          "height": 530
        },
        "id": "Ed246F3eNObb",
        "outputId": "814dbdd3-ed84-4cb7-ece7-dea273a641d5"
      },
      "outputs": [
        {
          "name": "stderr",
          "output_type": "stream",
          "text": [
            "Installing package into ‘/usr/local/lib/R/site-library’\n",
            "(as ‘lib’ is unspecified)\n",
            "\n",
            "also installing the dependencies ‘xts’, ‘zoo’, ‘TTR’\n",
            "\n",
            "\n",
            "Loading required package: xts\n",
            "\n",
            "Loading required package: zoo\n",
            "\n",
            "\n",
            "Attaching package: ‘zoo’\n",
            "\n",
            "\n",
            "The following objects are masked from ‘package:base’:\n",
            "\n",
            "    as.Date, as.Date.numeric\n",
            "\n",
            "\n",
            "Loading required package: TTR\n",
            "\n",
            "Registered S3 method overwritten by 'quantmod':\n",
            "  method            from\n",
            "  as.zoo.data.frame zoo \n",
            "\n"
          ]
        },
        {
          "ename": "ERROR",
          "evalue": "ignored",
          "output_type": "error",
          "traceback": [
            "Error in getURL(url): could not find function \"getURL\"\nTraceback:\n"
          ]
        }
      ],
      "source": [
        "# Define the stock symbol (e.g., AAPL for Apple)\n",
        "stock_symbol <- \"AAPL\"\n",
        "\n",
        "# Fetch earnings dates\n",
        "earnings_dates <- tq_get_earnings(stock_symbol)\n"
      ]
    },
    {
      "cell_type": "code",
      "execution_count": null,
      "metadata": {
        "colab": {
          "base_uri": "https://localhost:8080/"
        },
        "id": "SDGaYtH8ovGc",
        "outputId": "bbe21efe-83c8-4d06-ba10-2dfee38bc573"
      },
      "outputs": [
        {
          "name": "stderr",
          "output_type": "stream",
          "text": [
            "Installing package into ‘/usr/local/lib/R/site-library’\n",
            "(as ‘lib’ is unspecified)\n",
            "\n",
            "also installing the dependencies ‘shape’, ‘future.apply’, ‘numDeriv’, ‘progressr’, ‘SQUAREM’, ‘diagram’, ‘lava’, ‘prodlim’, ‘globals’, ‘later’, ‘listenv’, ‘parallelly’, ‘clock’, ‘gower’, ‘hardhat’, ‘ipred’, ‘furrr’, ‘htmlwidgets’, ‘crosstalk’, ‘promises’, ‘Rcpp’, ‘warp’, ‘BH’, ‘fracdiff’, ‘lmtest’, ‘tseries’, ‘urca’, ‘RcppArmadillo’, ‘RcppRoll’, ‘future’, ‘quadprog’, ‘recipes’, ‘rsample’, ‘plotly’, ‘padr’, ‘slider’, ‘anytime’, ‘forecast’, ‘tsfeatures’, ‘assertthat’, ‘PerformanceAnalytics’, ‘lazyeval’, ‘Quandl’, ‘riingo’, ‘alphavantager’, ‘timetk’, ‘timeDate’\n",
            "\n",
            "\n"
          ]
        }
      ],
      "source": [
        "install.packages(\"tidyquant\")"
      ]
    },
    {
      "cell_type": "code",
      "execution_count": null,
      "metadata": {
        "colab": {
          "base_uri": "https://localhost:8080/",
          "height": 436
        },
        "id": "KOnC7zl9iado",
        "outputId": "fe18d0df-11b1-4c40-8e54-fc0a114a6784"
      },
      "outputs": [
        {
          "name": "stderr",
          "output_type": "stream",
          "text": [
            "Loading required package: xts\n",
            "\n",
            "Loading required package: zoo\n",
            "\n",
            "\n",
            "Attaching package: ‘zoo’\n",
            "\n",
            "\n",
            "The following objects are masked from ‘package:base’:\n",
            "\n",
            "    as.Date, as.Date.numeric\n",
            "\n",
            "\n",
            "Loading required package: TTR\n",
            "\n",
            "Registered S3 method overwritten by 'quantmod':\n",
            "  method            from\n",
            "  as.zoo.data.frame zoo \n",
            "\n"
          ]
        },
        {
          "ename": "ERROR",
          "evalue": "ignored",
          "output_type": "error",
          "traceback": [
            "Error in getEarningsCalendar(stock_symbol): could not find function \"getEarningsCalendar\"\nTraceback:\n"
          ]
        }
      ],
      "source": [
        "# Define the stock symbol (e.g., AAPL for Apple)\n",
        "stock_symbol <- \"AAPL\"\n",
        "\n",
        "# Fetch earnings dates\n",
        "earnings_dates <- tq_get_earnings(stock_symbol)\n"
      ]
    }
  ],
  "metadata": {
    "colab": {
      "provenance": []
    },
    "kernelspec": {
      "display_name": "R",
      "name": "ir"
    },
    "language_info": {
      "name": "R"
    }
  },
  "nbformat": 4,
  "nbformat_minor": 0
}